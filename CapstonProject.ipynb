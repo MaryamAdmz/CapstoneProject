{
 "cells": [
  {
   "cell_type": "markdown",
   "id": "481d39d1",
   "metadata": {},
   "source": [
    "## Capston Project: Amazon Customer behavior\n",
    "This project aims to classify Amazon customers by their add-to-cart behavior whether they add products while browsing (Yes), do not add any (No), or are uncertain (Maybe) based on their browsing activity and survey responses. To achieve this, we apply machine learning models, including K-Nearest Neighbor(KNN), Logistic Regression, Decision Trees, Support Vector Machines(SVM), XGBoost, GaussianNB, Random Forest.\n",
    "\n",
    "\n",
    "The dataset is designed to provide insights into customer preferences, shopping habits, and decision-making processes. By analyzing it, researchers and analysts can gain a deeper understanding of consumer behavior, identify emerging trends, optimize marketing strategies, and enhance the overall customer experience on Amazon.\n"
   ]
  },
  {
   "cell_type": "code",
   "execution_count": 154,
   "id": "b67fe655",
   "metadata": {},
   "outputs": [],
   "source": [
    "#Importing libraries\n",
    "import pandas as pd\n",
    "import seaborn as sns\n",
    "import numpy as np\n",
    "import plotly\n",
    "import plotly.express as px\n",
    "import matplotlib.pyplot as plt\n",
    "from sklearn.compose import ColumnTransformer\n",
    "from sklearn.feature_selection import SelectKBest, f_classif\n",
    "from sklearn.preprocessing import LabelEncoder\n",
    "from sklearn.preprocessing import MinMaxScaler\n",
    "from sklearn.model_selection import train_test_split\n",
    "from sklearn.pipeline import Pipeline\n",
    "from sklearn.model_selection import GridSearchCV\n",
    "from sklearn.neighbors import KNeighborsClassifier\n",
    "from sklearn.svm import SVC\n",
    "from sklearn.naive_bayes import GaussianNB\n",
    "from sklearn.tree import DecisionTreeClassifier\n",
    "from sklearn.ensemble import RandomForestClassifier\n",
    "from sklearn.ensemble import AdaBoostClassifier\n",
    "from sklearn.ensemble import GradientBoostingClassifier\n",
    "import warnings\n",
    "from sklearn.metrics import classification_report,ConfusionMatrixDisplay"
   ]
  },
  {
   "cell_type": "code",
   "execution_count": 155,
   "id": "fb5fbf66",
   "metadata": {},
   "outputs": [
    {
     "data": {
      "text/plain": [
       "(602, 23)"
      ]
     },
     "execution_count": 155,
     "metadata": {},
     "output_type": "execute_result"
    }
   ],
   "source": [
    "#Data Loading: Load and preprocess the dataset\n",
    "df = pd.read_csv(\"AmazonCustomerBehaviorSurvey.csv\")\n",
    "df.shape"
   ]
  },
  {
   "cell_type": "code",
   "execution_count": 156,
   "id": "aa5859a3",
   "metadata": {},
   "outputs": [
    {
     "data": {
      "text/html": [
       "<div>\n",
       "<style scoped>\n",
       "    .dataframe tbody tr th:only-of-type {\n",
       "        vertical-align: middle;\n",
       "    }\n",
       "\n",
       "    .dataframe tbody tr th {\n",
       "        vertical-align: top;\n",
       "    }\n",
       "\n",
       "    .dataframe thead th {\n",
       "        text-align: right;\n",
       "    }\n",
       "</style>\n",
       "<table border=\"1\" class=\"dataframe\">\n",
       "  <thead>\n",
       "    <tr style=\"text-align: right;\">\n",
       "      <th></th>\n",
       "      <th>Timestamp</th>\n",
       "      <th>age</th>\n",
       "      <th>Gender</th>\n",
       "      <th>Purchase_Frequency</th>\n",
       "      <th>Purchase_Categories</th>\n",
       "      <th>Personalized_Recommendation_Frequency</th>\n",
       "      <th>Browsing_Frequency</th>\n",
       "      <th>Product_Search_Method</th>\n",
       "      <th>Search_Result_Exploration</th>\n",
       "      <th>Customer_Reviews_Importance</th>\n",
       "      <th>...</th>\n",
       "      <th>Saveforlater_Frequency</th>\n",
       "      <th>Review_Left</th>\n",
       "      <th>Review_Reliability</th>\n",
       "      <th>Review_Helpfulness</th>\n",
       "      <th>Personalized_Recommendation_Frequency</th>\n",
       "      <th>Recommendation_Helpfulness</th>\n",
       "      <th>Rating_Accuracy</th>\n",
       "      <th>Shopping_Satisfaction</th>\n",
       "      <th>Service_Appreciation</th>\n",
       "      <th>Improvement_Areas</th>\n",
       "    </tr>\n",
       "  </thead>\n",
       "  <tbody>\n",
       "    <tr>\n",
       "      <th>0</th>\n",
       "      <td>2023/06/04 1:28:19 PM GMT+5:30</td>\n",
       "      <td>23</td>\n",
       "      <td>Female</td>\n",
       "      <td>Few times a month</td>\n",
       "      <td>Beauty and Personal Care</td>\n",
       "      <td>Yes</td>\n",
       "      <td>Few times a week</td>\n",
       "      <td>Keyword</td>\n",
       "      <td>Multiple pages</td>\n",
       "      <td>1</td>\n",
       "      <td>...</td>\n",
       "      <td>Sometimes</td>\n",
       "      <td>Yes</td>\n",
       "      <td>Occasionally</td>\n",
       "      <td>Yes</td>\n",
       "      <td>2</td>\n",
       "      <td>Yes</td>\n",
       "      <td>1</td>\n",
       "      <td>1</td>\n",
       "      <td>Competitive prices</td>\n",
       "      <td>Reducing packaging waste</td>\n",
       "    </tr>\n",
       "    <tr>\n",
       "      <th>1</th>\n",
       "      <td>2023/06/04 2:30:44 PM GMT+5:30</td>\n",
       "      <td>23</td>\n",
       "      <td>Female</td>\n",
       "      <td>Once a month</td>\n",
       "      <td>Clothing and Fashion</td>\n",
       "      <td>Yes</td>\n",
       "      <td>Few times a month</td>\n",
       "      <td>Keyword</td>\n",
       "      <td>Multiple pages</td>\n",
       "      <td>1</td>\n",
       "      <td>...</td>\n",
       "      <td>Rarely</td>\n",
       "      <td>No</td>\n",
       "      <td>Heavily</td>\n",
       "      <td>Yes</td>\n",
       "      <td>2</td>\n",
       "      <td>Sometimes</td>\n",
       "      <td>3</td>\n",
       "      <td>2</td>\n",
       "      <td>Wide product selection</td>\n",
       "      <td>Reducing packaging waste</td>\n",
       "    </tr>\n",
       "    <tr>\n",
       "      <th>2</th>\n",
       "      <td>2023/06/04 5:04:56 PM GMT+5:30</td>\n",
       "      <td>24</td>\n",
       "      <td>Prefer not to say</td>\n",
       "      <td>Few times a month</td>\n",
       "      <td>Groceries and Gourmet Food;Clothing and Fashion</td>\n",
       "      <td>No</td>\n",
       "      <td>Few times a month</td>\n",
       "      <td>Keyword</td>\n",
       "      <td>Multiple pages</td>\n",
       "      <td>2</td>\n",
       "      <td>...</td>\n",
       "      <td>Rarely</td>\n",
       "      <td>No</td>\n",
       "      <td>Occasionally</td>\n",
       "      <td>No</td>\n",
       "      <td>4</td>\n",
       "      <td>No</td>\n",
       "      <td>3</td>\n",
       "      <td>3</td>\n",
       "      <td>Competitive prices</td>\n",
       "      <td>Product quality and accuracy</td>\n",
       "    </tr>\n",
       "  </tbody>\n",
       "</table>\n",
       "<p>3 rows × 23 columns</p>\n",
       "</div>"
      ],
      "text/plain": [
       "                        Timestamp  age             Gender Purchase_Frequency  \\\n",
       "0  2023/06/04 1:28:19 PM GMT+5:30   23             Female  Few times a month   \n",
       "1  2023/06/04 2:30:44 PM GMT+5:30   23             Female       Once a month   \n",
       "2  2023/06/04 5:04:56 PM GMT+5:30   24  Prefer not to say  Few times a month   \n",
       "\n",
       "                               Purchase_Categories  \\\n",
       "0                         Beauty and Personal Care   \n",
       "1                             Clothing and Fashion   \n",
       "2  Groceries and Gourmet Food;Clothing and Fashion   \n",
       "\n",
       "  Personalized_Recommendation_Frequency Browsing_Frequency  \\\n",
       "0                                   Yes   Few times a week   \n",
       "1                                   Yes  Few times a month   \n",
       "2                                    No  Few times a month   \n",
       "\n",
       "  Product_Search_Method Search_Result_Exploration  \\\n",
       "0               Keyword            Multiple pages   \n",
       "1               Keyword            Multiple pages   \n",
       "2               Keyword            Multiple pages   \n",
       "\n",
       "   Customer_Reviews_Importance  ... Saveforlater_Frequency Review_Left  \\\n",
       "0                            1  ...              Sometimes         Yes   \n",
       "1                            1  ...                 Rarely          No   \n",
       "2                            2  ...                 Rarely          No   \n",
       "\n",
       "  Review_Reliability Review_Helpfulness  \\\n",
       "0       Occasionally                Yes   \n",
       "1            Heavily                Yes   \n",
       "2       Occasionally                 No   \n",
       "\n",
       "  Personalized_Recommendation_Frequency  Recommendation_Helpfulness  \\\n",
       "0                                      2                        Yes   \n",
       "1                                      2                  Sometimes   \n",
       "2                                      4                         No   \n",
       "\n",
       "  Rating_Accuracy   Shopping_Satisfaction    Service_Appreciation  \\\n",
       "0                1                      1      Competitive prices   \n",
       "1                3                      2  Wide product selection   \n",
       "2                3                      3      Competitive prices   \n",
       "\n",
       "              Improvement_Areas  \n",
       "0      Reducing packaging waste  \n",
       "1      Reducing packaging waste  \n",
       "2  Product quality and accuracy  \n",
       "\n",
       "[3 rows x 23 columns]"
      ]
     },
     "execution_count": 156,
     "metadata": {},
     "output_type": "execute_result"
    }
   ],
   "source": [
    "df.head(3)"
   ]
  },
  {
   "cell_type": "code",
   "execution_count": 157,
   "id": "5c4e3e28",
   "metadata": {},
   "outputs": [],
   "source": [
    "#Data dictionary provided"
   ]
  },
  {
   "cell_type": "code",
   "execution_count": 158,
   "id": "64bd5638",
   "metadata": {},
   "outputs": [],
   "source": [
    "df.rename(columns={\"Rating Accuracy\": \"Rating_Accuracy\"}, inplace=True)"
   ]
  },
  {
   "cell_type": "code",
   "execution_count": 159,
   "id": "b5c7814a",
   "metadata": {},
   "outputs": [
    {
     "data": {
      "text/plain": [
       "Timestamp                                 0\n",
       "age                                       0\n",
       "Gender                                    0\n",
       "Purchase_Frequency                        0\n",
       "Purchase_Categories                       0\n",
       "Personalized_Recommendation_Frequency     0\n",
       "Browsing_Frequency                        0\n",
       "Product_Search_Method                     2\n",
       "Search_Result_Exploration                 0\n",
       "Customer_Reviews_Importance               0\n",
       "Add_to_Cart_Browsing                      0\n",
       "Cart_Completion_Frequency                 0\n",
       "Cart_Abandonment_Factors                  0\n",
       "Saveforlater_Frequency                    0\n",
       "Review_Left                               0\n",
       "Review_Reliability                        0\n",
       "Review_Helpfulness                        0\n",
       "Personalized_Recommendation_Frequency     0\n",
       "Recommendation_Helpfulness                0\n",
       "Rating_Accuracy                           0\n",
       "Shopping_Satisfaction                     0\n",
       "Service_Appreciation                      0\n",
       "Improvement_Areas                         0\n",
       "dtype: int64"
      ]
     },
     "execution_count": 159,
     "metadata": {},
     "output_type": "execute_result"
    }
   ],
   "source": [
    "df.isna().sum()"
   ]
  },
  {
   "cell_type": "code",
   "execution_count": 160,
   "id": "50248dba",
   "metadata": {},
   "outputs": [
    {
     "name": "stdout",
     "output_type": "stream",
     "text": [
      "<class 'pandas.core.frame.DataFrame'>\n",
      "RangeIndex: 602 entries, 0 to 601\n",
      "Data columns (total 23 columns):\n",
      " #   Column                                  Non-Null Count  Dtype \n",
      "---  ------                                  --------------  ----- \n",
      " 0   Timestamp                               602 non-null    object\n",
      " 1   age                                     602 non-null    int64 \n",
      " 2   Gender                                  602 non-null    object\n",
      " 3   Purchase_Frequency                      602 non-null    object\n",
      " 4   Purchase_Categories                     602 non-null    object\n",
      " 5   Personalized_Recommendation_Frequency   602 non-null    object\n",
      " 6   Browsing_Frequency                      602 non-null    object\n",
      " 7   Product_Search_Method                   600 non-null    object\n",
      " 8   Search_Result_Exploration               602 non-null    object\n",
      " 9   Customer_Reviews_Importance             602 non-null    int64 \n",
      " 10  Add_to_Cart_Browsing                    602 non-null    object\n",
      " 11  Cart_Completion_Frequency               602 non-null    object\n",
      " 12  Cart_Abandonment_Factors                602 non-null    object\n",
      " 13  Saveforlater_Frequency                  602 non-null    object\n",
      " 14  Review_Left                             602 non-null    object\n",
      " 15  Review_Reliability                      602 non-null    object\n",
      " 16  Review_Helpfulness                      602 non-null    object\n",
      " 17  Personalized_Recommendation_Frequency   602 non-null    int64 \n",
      " 18  Recommendation_Helpfulness              602 non-null    object\n",
      " 19  Rating_Accuracy                         602 non-null    int64 \n",
      " 20  Shopping_Satisfaction                   602 non-null    int64 \n",
      " 21  Service_Appreciation                    602 non-null    object\n",
      " 22  Improvement_Areas                       602 non-null    object\n",
      "dtypes: int64(5), object(18)\n",
      "memory usage: 108.3+ KB\n"
     ]
    }
   ],
   "source": [
    "df.info()"
   ]
  },
  {
   "cell_type": "code",
   "execution_count": 161,
   "id": "81264bad",
   "metadata": {
    "scrolled": true
   },
   "outputs": [
    {
     "data": {
      "text/plain": [
       "Timestamp                                 0\n",
       "age                                       0\n",
       "Gender                                    0\n",
       "Purchase_Frequency                        0\n",
       "Purchase_Categories                       0\n",
       "Personalized_Recommendation_Frequency     0\n",
       "Browsing_Frequency                        0\n",
       "Product_Search_Method                     2\n",
       "Search_Result_Exploration                 0\n",
       "Customer_Reviews_Importance               0\n",
       "Add_to_Cart_Browsing                      0\n",
       "Cart_Completion_Frequency                 0\n",
       "Cart_Abandonment_Factors                  0\n",
       "Saveforlater_Frequency                    0\n",
       "Review_Left                               0\n",
       "Review_Reliability                        0\n",
       "Review_Helpfulness                        0\n",
       "Personalized_Recommendation_Frequency     0\n",
       "Recommendation_Helpfulness                0\n",
       "Rating_Accuracy                           0\n",
       "Shopping_Satisfaction                     0\n",
       "Service_Appreciation                      0\n",
       "Improvement_Areas                         0\n",
       "dtype: int64"
      ]
     },
     "execution_count": 161,
     "metadata": {},
     "output_type": "execute_result"
    }
   ],
   "source": [
    "df.isnull().sum()"
   ]
  },
  {
   "cell_type": "markdown",
   "id": "9e7b4857",
   "metadata": {},
   "source": [
    "Observations:\n",
    "- The data set contains 602 records with 23 features.\n",
    "- There are 18 object data type and 5 int64 data type features.\n",
    "- Only 2 null values are present in the data in the Product_search_Method column, which can be ignored\n",
    "- The dataset contains a duplicated column, Personalized_Recommendation_Frequency: one copy is object and the other is int64."
   ]
  },
  {
   "cell_type": "code",
   "execution_count": 162,
   "id": "2f6a32ba",
   "metadata": {},
   "outputs": [],
   "source": [
    "#Data cleaning\n",
    "df1 = df.copy()\n",
    "df1\n",
    "mask_drop = ((df1.columns == 'Personalized_Recommendation_Frequency') &\n",
    "             (df1.dtypes == 'object'))\n",
    "df1 = df1.loc[:, ~mask_drop]"
   ]
  },
  {
   "cell_type": "code",
   "execution_count": 163,
   "id": "9f8a72a2",
   "metadata": {},
   "outputs": [
    {
     "name": "stdout",
     "output_type": "stream",
     "text": [
      "<class 'pandas.core.frame.DataFrame'>\n",
      "RangeIndex: 602 entries, 0 to 601\n",
      "Data columns (total 22 columns):\n",
      " #   Column                                  Non-Null Count  Dtype \n",
      "---  ------                                  --------------  ----- \n",
      " 0   Timestamp                               602 non-null    object\n",
      " 1   age                                     602 non-null    int64 \n",
      " 2   Gender                                  602 non-null    object\n",
      " 3   Purchase_Frequency                      602 non-null    object\n",
      " 4   Purchase_Categories                     602 non-null    object\n",
      " 5   Browsing_Frequency                      602 non-null    object\n",
      " 6   Product_Search_Method                   600 non-null    object\n",
      " 7   Search_Result_Exploration               602 non-null    object\n",
      " 8   Customer_Reviews_Importance             602 non-null    int64 \n",
      " 9   Add_to_Cart_Browsing                    602 non-null    object\n",
      " 10  Cart_Completion_Frequency               602 non-null    object\n",
      " 11  Cart_Abandonment_Factors                602 non-null    object\n",
      " 12  Saveforlater_Frequency                  602 non-null    object\n",
      " 13  Review_Left                             602 non-null    object\n",
      " 14  Review_Reliability                      602 non-null    object\n",
      " 15  Review_Helpfulness                      602 non-null    object\n",
      " 16  Personalized_Recommendation_Frequency   602 non-null    int64 \n",
      " 17  Recommendation_Helpfulness              602 non-null    object\n",
      " 18  Rating_Accuracy                         602 non-null    int64 \n",
      " 19  Shopping_Satisfaction                   602 non-null    int64 \n",
      " 20  Service_Appreciation                    602 non-null    object\n",
      " 21  Improvement_Areas                       602 non-null    object\n",
      "dtypes: int64(5), object(17)\n",
      "memory usage: 103.6+ KB\n"
     ]
    }
   ],
   "source": [
    "df1.info()"
   ]
  },
  {
   "cell_type": "code",
   "execution_count": 164,
   "id": "efa6b39d",
   "metadata": {},
   "outputs": [],
   "source": [
    "#Replacing the null values in the 'Product_Search_Method' column with the mode value found within the same column. \n",
    "df1.loc[df1['Product_Search_Method'].isnull(),'Product_Search_Method']=df['Product_Search_Method'].mode().tolist()[-1]"
   ]
  },
  {
   "cell_type": "code",
   "execution_count": 165,
   "id": "5d1e0ad6",
   "metadata": {},
   "outputs": [],
   "source": [
    "# Adding Date and Time columns by extracting data from Timestamp column\n",
    "from datetime import timedelta\n",
    "df1['Timestamp']=pd.to_datetime(df1['Timestamp'])\n",
    "df1['Timestamp'] += timedelta(hours=5, minutes=30)\n",
    "df1['Date'] = df1['Timestamp'].dt.strftime('%d/%m/%Y')\n",
    "df1['Time'] = df1['Timestamp'].dt.time"
   ]
  },
  {
   "cell_type": "code",
   "execution_count": 166,
   "id": "e8f43275",
   "metadata": {},
   "outputs": [],
   "source": [
    "#Adding age category column\n",
    "def age_cat(row):\n",
    "    x = row['age']\n",
    "    if x < 18 :\n",
    "        return 'Minor (<18)'\n",
    "    elif (x > 18) & (x <= 25):\n",
    "        return 'Young Adult (18-25)'\n",
    "    elif (x > 25) & (x <= 40):\n",
    "        return \"Adult (26-40)\"\n",
    "    elif (x > 40) & (x <= 60) :\n",
    "        return 'Middle-Aged Adult (41-60)'\n",
    "    else :\n",
    "        return 'Senior Citizen (>60)'\n",
    "df1['Age_Category'] = df1.apply(age_cat , axis = 1)"
   ]
  },
  {
   "cell_type": "code",
   "execution_count": 167,
   "id": "923c6233",
   "metadata": {},
   "outputs": [],
   "source": [
    "#Adding Time Status Column\n",
    "def Time_cat(x):\n",
    "    if 6 <= x.hour < 12:\n",
    "        return 'Morning'\n",
    "    elif 12 <= x.hour < 18:\n",
    "        return 'Afternoon'\n",
    "    elif 18 <= x.hour < 21:\n",
    "        return 'Evening'\n",
    "    else:\n",
    "        return 'Night'\n",
    "\n",
    "df1['Time_Status'] = df1['Time'].apply(Time_cat)"
   ]
  },
  {
   "cell_type": "code",
   "execution_count": 168,
   "id": "42e337f9",
   "metadata": {},
   "outputs": [],
   "source": [
    "#Dropping Timestamp column\n",
    "df1 = df1.drop('Timestamp', axis = 1)"
   ]
  },
  {
   "cell_type": "code",
   "execution_count": 169,
   "id": "569aeec1",
   "metadata": {},
   "outputs": [
    {
     "name": "stdout",
     "output_type": "stream",
     "text": [
      "['Purchase_Categories', 'Service_Appreciation', 'Improvement_Areas', 'Date', 'Time']\n"
     ]
    }
   ],
   "source": [
    "#Finding outliers for all object columns\n",
    "def categorical_outlier_flags(df, threshold=0.01):\n",
    "    flags = {}\n",
    "    for c in df.select_dtypes(include='object').columns:\n",
    "        freq = df[c].value_counts(dropna=False, normalize=True)\n",
    "        flags[c] = (freq < threshold).any()\n",
    "    return pd.Series(flags, name=f'has_rare(<{threshold*100:.1f}%)')\n",
    "\n",
    "flags = categorical_outlier_flags(df1, threshold=0.01)\n",
    "# Print only columns with rare categories:\n",
    "print(flags[flags].index.tolist())"
   ]
  },
  {
   "cell_type": "code",
   "execution_count": 45,
   "id": "8dbc209b",
   "metadata": {},
   "outputs": [],
   "source": [
    "#pip install -U kaleido"
   ]
  },
  {
   "cell_type": "code",
   "execution_count": 46,
   "id": "c0dec7ab",
   "metadata": {},
   "outputs": [],
   "source": [
    "#pip install --upgrade plotly"
   ]
  },
  {
   "cell_type": "code",
   "execution_count": 47,
   "id": "6c5c33cb",
   "metadata": {},
   "outputs": [],
   "source": [
    "#pip install notebook --upgrade"
   ]
  },
  {
   "cell_type": "code",
   "execution_count": 170,
   "id": "65b0dcc2",
   "metadata": {},
   "outputs": [
    {
     "data": {
      "text/html": [
       "        <script type=\"text/javascript\">\n",
       "        window.PlotlyConfig = {MathJaxConfig: 'local'};\n",
       "        if (window.MathJax && window.MathJax.Hub && window.MathJax.Hub.Config) {window.MathJax.Hub.Config({SVG: {font: \"STIX-Web\"}});}\n",
       "        </script>\n",
       "        <script type=\"module\">import \"https://cdn.plot.ly/plotly-3.1.0.min\"</script>\n",
       "        "
      ]
     },
     "metadata": {},
     "output_type": "display_data"
    },
    {
     "data": {
      "text/html": [
       "<div>            <script src=\"https://cdnjs.cloudflare.com/ajax/libs/mathjax/2.7.5/MathJax.js?config=TeX-AMS-MML_SVG\"></script><script type=\"text/javascript\">if (window.MathJax && window.MathJax.Hub && window.MathJax.Hub.Config) {window.MathJax.Hub.Config({SVG: {font: \"STIX-Web\"}});}</script>                <script type=\"text/javascript\">window.PlotlyConfig = {MathJaxConfig: 'local'};</script>\n",
       "        <script charset=\"utf-8\" src=\"https://cdn.plot.ly/plotly-3.1.0.min.js\" integrity=\"sha256-Ei4740bWZhaUTQuD6q9yQlgVCMPBz6CZWhevDYPv93A=\" crossorigin=\"anonymous\"></script>                <div id=\"8229d088-2077-4084-bf80-cfba2e69502c\" class=\"plotly-graph-div\" style=\"height:400px; width:400px;\"></div>            <script type=\"text/javascript\">                window.PLOTLYENV=window.PLOTLYENV || {};                                if (document.getElementById(\"8229d088-2077-4084-bf80-cfba2e69502c\")) {                    Plotly.newPlot(                        \"8229d088-2077-4084-bf80-cfba2e69502c\",                        [{\"domain\":{\"x\":[0.0,1.0],\"y\":[0.0,1.0]},\"hovertemplate\":\"%{label}: %{percent} (%{value})\\u003cextra\\u003e\\u003c\\u002fextra\\u003e\",\"labels\":[\"Beauty and Personal Care\",\"Clothing and Fashion\",\"others\",\"Beauty and Personal Care;Clothing and Fashion\",\"Beauty and Personal Care;Clothing and Fashion;Home and Kitchen\",\"Groceries and Gourmet Food;Beauty and Personal Care;Clothing and Fashion;Home and Kitchen;others\",\"Clothing and Fashion;Home and Kitchen\",\"Home and Kitchen\",\"Beauty and Personal Care;Home and Kitchen\",\"Clothing and Fashion;Home and Kitchen;others\",\"Clothing and Fashion;others\",\"Groceries and Gourmet Food\",\"Groceries and Gourmet Food;Beauty and Personal Care;Clothing and Fashion;Home and Kitchen\",\"Beauty and Personal Care;Clothing and Fashion;others\",\"Groceries and Gourmet Food;Beauty and Personal Care;Clothing and Fashion\",\"Home and Kitchen;others\",\"Beauty and Personal Care;Clothing and Fashion;Home and Kitchen;others\",\"Beauty and Personal Care;others\",\"Groceries and Gourmet Food;Beauty and Personal Care\",\"Groceries and Gourmet Food;Home and Kitchen;others\",\"Groceries and Gourmet Food;Clothing and Fashion\",\"Groceries and Gourmet Food;Home and Kitchen\",\"Beauty and Personal Care;Home and Kitchen;others\",\"Groceries and Gourmet Food;Beauty and Personal Care;Home and Kitchen\",\"Groceries and Gourmet Food;Clothing and Fashion;Home and Kitchen\",\"Groceries and Gourmet Food;Clothing and Fashion;Home and Kitchen;others\",\"Groceries and Gourmet Food;Beauty and Personal Care;others\",\"Groceries and Gourmet Food;Clothing and Fashion;others\",\"Groceries and Gourmet Food;Beauty and Personal Care;Clothing and Fashion;others\"],\"legendgroup\":\"\",\"name\":\"\",\"showlegend\":true,\"values\":{\"dtype\":\"i1\",\"bdata\":\"amowLiogGxgVEA4ODgwKCQgHBwYGBQUEBAMDAgE=\"},\"type\":\"pie\",\"textinfo\":\"percent\",\"textposition\":\"inside\"}],                        {\"template\":{\"data\":{\"histogram2dcontour\":[{\"type\":\"histogram2dcontour\",\"colorbar\":{\"outlinewidth\":0,\"ticks\":\"\"},\"colorscale\":[[0.0,\"#0d0887\"],[0.1111111111111111,\"#46039f\"],[0.2222222222222222,\"#7201a8\"],[0.3333333333333333,\"#9c179e\"],[0.4444444444444444,\"#bd3786\"],[0.5555555555555556,\"#d8576b\"],[0.6666666666666666,\"#ed7953\"],[0.7777777777777778,\"#fb9f3a\"],[0.8888888888888888,\"#fdca26\"],[1.0,\"#f0f921\"]]}],\"choropleth\":[{\"type\":\"choropleth\",\"colorbar\":{\"outlinewidth\":0,\"ticks\":\"\"}}],\"histogram2d\":[{\"type\":\"histogram2d\",\"colorbar\":{\"outlinewidth\":0,\"ticks\":\"\"},\"colorscale\":[[0.0,\"#0d0887\"],[0.1111111111111111,\"#46039f\"],[0.2222222222222222,\"#7201a8\"],[0.3333333333333333,\"#9c179e\"],[0.4444444444444444,\"#bd3786\"],[0.5555555555555556,\"#d8576b\"],[0.6666666666666666,\"#ed7953\"],[0.7777777777777778,\"#fb9f3a\"],[0.8888888888888888,\"#fdca26\"],[1.0,\"#f0f921\"]]}],\"heatmap\":[{\"type\":\"heatmap\",\"colorbar\":{\"outlinewidth\":0,\"ticks\":\"\"},\"colorscale\":[[0.0,\"#0d0887\"],[0.1111111111111111,\"#46039f\"],[0.2222222222222222,\"#7201a8\"],[0.3333333333333333,\"#9c179e\"],[0.4444444444444444,\"#bd3786\"],[0.5555555555555556,\"#d8576b\"],[0.6666666666666666,\"#ed7953\"],[0.7777777777777778,\"#fb9f3a\"],[0.8888888888888888,\"#fdca26\"],[1.0,\"#f0f921\"]]}],\"contourcarpet\":[{\"type\":\"contourcarpet\",\"colorbar\":{\"outlinewidth\":0,\"ticks\":\"\"}}],\"contour\":[{\"type\":\"contour\",\"colorbar\":{\"outlinewidth\":0,\"ticks\":\"\"},\"colorscale\":[[0.0,\"#0d0887\"],[0.1111111111111111,\"#46039f\"],[0.2222222222222222,\"#7201a8\"],[0.3333333333333333,\"#9c179e\"],[0.4444444444444444,\"#bd3786\"],[0.5555555555555556,\"#d8576b\"],[0.6666666666666666,\"#ed7953\"],[0.7777777777777778,\"#fb9f3a\"],[0.8888888888888888,\"#fdca26\"],[1.0,\"#f0f921\"]]}],\"surface\":[{\"type\":\"surface\",\"colorbar\":{\"outlinewidth\":0,\"ticks\":\"\"},\"colorscale\":[[0.0,\"#0d0887\"],[0.1111111111111111,\"#46039f\"],[0.2222222222222222,\"#7201a8\"],[0.3333333333333333,\"#9c179e\"],[0.4444444444444444,\"#bd3786\"],[0.5555555555555556,\"#d8576b\"],[0.6666666666666666,\"#ed7953\"],[0.7777777777777778,\"#fb9f3a\"],[0.8888888888888888,\"#fdca26\"],[1.0,\"#f0f921\"]]}],\"mesh3d\":[{\"type\":\"mesh3d\",\"colorbar\":{\"outlinewidth\":0,\"ticks\":\"\"}}],\"scatter\":[{\"fillpattern\":{\"fillmode\":\"overlay\",\"size\":10,\"solidity\":0.2},\"type\":\"scatter\"}],\"parcoords\":[{\"type\":\"parcoords\",\"line\":{\"colorbar\":{\"outlinewidth\":0,\"ticks\":\"\"}}}],\"scatterpolargl\":[{\"type\":\"scatterpolargl\",\"marker\":{\"colorbar\":{\"outlinewidth\":0,\"ticks\":\"\"}}}],\"bar\":[{\"error_x\":{\"color\":\"#2a3f5f\"},\"error_y\":{\"color\":\"#2a3f5f\"},\"marker\":{\"line\":{\"color\":\"#E5ECF6\",\"width\":0.5},\"pattern\":{\"fillmode\":\"overlay\",\"size\":10,\"solidity\":0.2}},\"type\":\"bar\"}],\"scattergeo\":[{\"type\":\"scattergeo\",\"marker\":{\"colorbar\":{\"outlinewidth\":0,\"ticks\":\"\"}}}],\"scatterpolar\":[{\"type\":\"scatterpolar\",\"marker\":{\"colorbar\":{\"outlinewidth\":0,\"ticks\":\"\"}}}],\"histogram\":[{\"marker\":{\"pattern\":{\"fillmode\":\"overlay\",\"size\":10,\"solidity\":0.2}},\"type\":\"histogram\"}],\"scattergl\":[{\"type\":\"scattergl\",\"marker\":{\"colorbar\":{\"outlinewidth\":0,\"ticks\":\"\"}}}],\"scatter3d\":[{\"type\":\"scatter3d\",\"line\":{\"colorbar\":{\"outlinewidth\":0,\"ticks\":\"\"}},\"marker\":{\"colorbar\":{\"outlinewidth\":0,\"ticks\":\"\"}}}],\"scattermap\":[{\"type\":\"scattermap\",\"marker\":{\"colorbar\":{\"outlinewidth\":0,\"ticks\":\"\"}}}],\"scattermapbox\":[{\"type\":\"scattermapbox\",\"marker\":{\"colorbar\":{\"outlinewidth\":0,\"ticks\":\"\"}}}],\"scatterternary\":[{\"type\":\"scatterternary\",\"marker\":{\"colorbar\":{\"outlinewidth\":0,\"ticks\":\"\"}}}],\"scattercarpet\":[{\"type\":\"scattercarpet\",\"marker\":{\"colorbar\":{\"outlinewidth\":0,\"ticks\":\"\"}}}],\"carpet\":[{\"aaxis\":{\"endlinecolor\":\"#2a3f5f\",\"gridcolor\":\"white\",\"linecolor\":\"white\",\"minorgridcolor\":\"white\",\"startlinecolor\":\"#2a3f5f\"},\"baxis\":{\"endlinecolor\":\"#2a3f5f\",\"gridcolor\":\"white\",\"linecolor\":\"white\",\"minorgridcolor\":\"white\",\"startlinecolor\":\"#2a3f5f\"},\"type\":\"carpet\"}],\"table\":[{\"cells\":{\"fill\":{\"color\":\"#EBF0F8\"},\"line\":{\"color\":\"white\"}},\"header\":{\"fill\":{\"color\":\"#C8D4E3\"},\"line\":{\"color\":\"white\"}},\"type\":\"table\"}],\"barpolar\":[{\"marker\":{\"line\":{\"color\":\"#E5ECF6\",\"width\":0.5},\"pattern\":{\"fillmode\":\"overlay\",\"size\":10,\"solidity\":0.2}},\"type\":\"barpolar\"}],\"pie\":[{\"automargin\":true,\"type\":\"pie\"}]},\"layout\":{\"autotypenumbers\":\"strict\",\"colorway\":[\"#636efa\",\"#EF553B\",\"#00cc96\",\"#ab63fa\",\"#FFA15A\",\"#19d3f3\",\"#FF6692\",\"#B6E880\",\"#FF97FF\",\"#FECB52\"],\"font\":{\"color\":\"#2a3f5f\"},\"hovermode\":\"closest\",\"hoverlabel\":{\"align\":\"left\"},\"paper_bgcolor\":\"white\",\"plot_bgcolor\":\"#E5ECF6\",\"polar\":{\"bgcolor\":\"#E5ECF6\",\"angularaxis\":{\"gridcolor\":\"white\",\"linecolor\":\"white\",\"ticks\":\"\"},\"radialaxis\":{\"gridcolor\":\"white\",\"linecolor\":\"white\",\"ticks\":\"\"}},\"ternary\":{\"bgcolor\":\"#E5ECF6\",\"aaxis\":{\"gridcolor\":\"white\",\"linecolor\":\"white\",\"ticks\":\"\"},\"baxis\":{\"gridcolor\":\"white\",\"linecolor\":\"white\",\"ticks\":\"\"},\"caxis\":{\"gridcolor\":\"white\",\"linecolor\":\"white\",\"ticks\":\"\"}},\"coloraxis\":{\"colorbar\":{\"outlinewidth\":0,\"ticks\":\"\"}},\"colorscale\":{\"sequential\":[[0.0,\"#0d0887\"],[0.1111111111111111,\"#46039f\"],[0.2222222222222222,\"#7201a8\"],[0.3333333333333333,\"#9c179e\"],[0.4444444444444444,\"#bd3786\"],[0.5555555555555556,\"#d8576b\"],[0.6666666666666666,\"#ed7953\"],[0.7777777777777778,\"#fb9f3a\"],[0.8888888888888888,\"#fdca26\"],[1.0,\"#f0f921\"]],\"sequentialminus\":[[0.0,\"#0d0887\"],[0.1111111111111111,\"#46039f\"],[0.2222222222222222,\"#7201a8\"],[0.3333333333333333,\"#9c179e\"],[0.4444444444444444,\"#bd3786\"],[0.5555555555555556,\"#d8576b\"],[0.6666666666666666,\"#ed7953\"],[0.7777777777777778,\"#fb9f3a\"],[0.8888888888888888,\"#fdca26\"],[1.0,\"#f0f921\"]],\"diverging\":[[0,\"#8e0152\"],[0.1,\"#c51b7d\"],[0.2,\"#de77ae\"],[0.3,\"#f1b6da\"],[0.4,\"#fde0ef\"],[0.5,\"#f7f7f7\"],[0.6,\"#e6f5d0\"],[0.7,\"#b8e186\"],[0.8,\"#7fbc41\"],[0.9,\"#4d9221\"],[1,\"#276419\"]]},\"xaxis\":{\"gridcolor\":\"white\",\"linecolor\":\"white\",\"ticks\":\"\",\"title\":{\"standoff\":15},\"zerolinecolor\":\"white\",\"automargin\":true,\"zerolinewidth\":2},\"yaxis\":{\"gridcolor\":\"white\",\"linecolor\":\"white\",\"ticks\":\"\",\"title\":{\"standoff\":15},\"zerolinecolor\":\"white\",\"automargin\":true,\"zerolinewidth\":2},\"scene\":{\"xaxis\":{\"backgroundcolor\":\"#E5ECF6\",\"gridcolor\":\"white\",\"linecolor\":\"white\",\"showbackground\":true,\"ticks\":\"\",\"zerolinecolor\":\"white\",\"gridwidth\":2},\"yaxis\":{\"backgroundcolor\":\"#E5ECF6\",\"gridcolor\":\"white\",\"linecolor\":\"white\",\"showbackground\":true,\"ticks\":\"\",\"zerolinecolor\":\"white\",\"gridwidth\":2},\"zaxis\":{\"backgroundcolor\":\"#E5ECF6\",\"gridcolor\":\"white\",\"linecolor\":\"white\",\"showbackground\":true,\"ticks\":\"\",\"zerolinecolor\":\"white\",\"gridwidth\":2}},\"shapedefaults\":{\"line\":{\"color\":\"#2a3f5f\"}},\"annotationdefaults\":{\"arrowcolor\":\"#2a3f5f\",\"arrowhead\":0,\"arrowwidth\":1},\"geo\":{\"bgcolor\":\"white\",\"landcolor\":\"#E5ECF6\",\"subunitcolor\":\"white\",\"showland\":true,\"showlakes\":true,\"lakecolor\":\"white\"},\"title\":{\"x\":0.05},\"mapbox\":{\"style\":\"light\"}}},\"legend\":{\"tracegroupgap\":0},\"title\":{\"text\":\"Purchase_Categories distribution\",\"font\":{\"size\":12},\"x\":0.5},\"height\":400,\"width\":400,\"showlegend\":false},                        {\"responsive\": true}                    ).then(function(){\n",
       "                            \n",
       "var gd = document.getElementById('8229d088-2077-4084-bf80-cfba2e69502c');\n",
       "var x = new MutationObserver(function (mutations, observer) {{\n",
       "        var display = window.getComputedStyle(gd).display;\n",
       "        if (!display || display === 'none') {{\n",
       "            console.log([gd, 'removed!']);\n",
       "            Plotly.purge(gd);\n",
       "            observer.disconnect();\n",
       "        }}\n",
       "}});\n",
       "\n",
       "// Listen for the removal of the full notebook cells\n",
       "var notebookContainer = gd.closest('#notebook-container');\n",
       "if (notebookContainer) {{\n",
       "    x.observe(notebookContainer, {childList: true});\n",
       "}}\n",
       "\n",
       "// Listen for the clearing of the current output cell\n",
       "var outputEl = gd.closest('.output');\n",
       "if (outputEl) {{\n",
       "    x.observe(outputEl, {childList: true});\n",
       "}}\n",
       "\n",
       "                        })                };            </script>        </div>"
      ]
     },
     "metadata": {},
     "output_type": "display_data"
    }
   ],
   "source": [
    "#Checking Purchase_Categories col\n",
    "import plotly.io as pio\n",
    "pio.renderers.default = 'notebook_connected'\n",
    "\n",
    "col = 'Purchase_Categories'\n",
    "\n",
    "counts = df1['Purchase_Categories'].value_counts(dropna=False).reset_index()\n",
    "counts.columns = ['Purchase_Categories', 'count']\n",
    "\n",
    "fig = px.pie(\n",
    "    data_frame=counts,\n",
    "    names='Purchase_Categories',\n",
    "    values='count',\n",
    "    title='Purchase_Categories distribution',\n",
    "    width=400, height=400\n",
    ")\n",
    "\n",
    "fig.update_traces(\n",
    "    textposition='inside',\n",
    "    textinfo='percent',\n",
    "    hovertemplate='%{label}: %{percent} (%{value})<extra></extra>'\n",
    ")\n",
    "fig.update_layout(\n",
    "    showlegend=False,\n",
    "    title_font_size=12,\n",
    "    title_x=0.5,\n",
    "    #margin=dict(r=20, l=20, t=40, b=20) \n",
    ")\n",
    "#fig.write_image(\"plot1.png\",scale=1)\n",
    "fig.show()"
   ]
  },
  {
   "cell_type": "code",
   "execution_count": 111,
   "id": "9ac1c404",
   "metadata": {
    "scrolled": true
   },
   "outputs": [
    {
     "data": {
      "text/html": [
       "<div>            <script src=\"https://cdnjs.cloudflare.com/ajax/libs/mathjax/2.7.5/MathJax.js?config=TeX-AMS-MML_SVG\"></script><script type=\"text/javascript\">if (window.MathJax && window.MathJax.Hub && window.MathJax.Hub.Config) {window.MathJax.Hub.Config({SVG: {font: \"STIX-Web\"}});}</script>                <script type=\"text/javascript\">window.PlotlyConfig = {MathJaxConfig: 'local'};</script>\n",
       "        <script charset=\"utf-8\" src=\"https://cdn.plot.ly/plotly-3.1.0.min.js\" integrity=\"sha256-Ei4740bWZhaUTQuD6q9yQlgVCMPBz6CZWhevDYPv93A=\" crossorigin=\"anonymous\"></script>                <div id=\"a3a8a491-7fd2-41db-9fd2-90ac6a129781\" class=\"plotly-graph-div\" style=\"height:400px; width:400px;\"></div>            <script type=\"text/javascript\">                window.PLOTLYENV=window.PLOTLYENV || {};                                if (document.getElementById(\"a3a8a491-7fd2-41db-9fd2-90ac6a129781\")) {                    Plotly.newPlot(                        \"a3a8a491-7fd2-41db-9fd2-90ac6a129781\",                        [{\"domain\":{\"x\":[0.0,1.0],\"y\":[0.0,1.0]},\"hovertemplate\":\"%{label}: %{percent} (%{value})\\u003cextra\\u003e\\u003c\\u002fextra\\u003e\",\"labels\":[\"Product recommendations\",\"Competitive prices\",\"Wide product selection\",\"User-friendly website\\u002fapp interface\",\"Other\"],\"legendgroup\":\"\",\"name\":\"\",\"showlegend\":true,\"values\":{\"dtype\":\"i2\",\"bdata\":\"uQC2AJYAUAAFAA==\"},\"type\":\"pie\",\"textinfo\":\"percent\",\"textposition\":\"inside\"}],                        {\"template\":{\"data\":{\"histogram2dcontour\":[{\"type\":\"histogram2dcontour\",\"colorbar\":{\"outlinewidth\":0,\"ticks\":\"\"},\"colorscale\":[[0.0,\"#0d0887\"],[0.1111111111111111,\"#46039f\"],[0.2222222222222222,\"#7201a8\"],[0.3333333333333333,\"#9c179e\"],[0.4444444444444444,\"#bd3786\"],[0.5555555555555556,\"#d8576b\"],[0.6666666666666666,\"#ed7953\"],[0.7777777777777778,\"#fb9f3a\"],[0.8888888888888888,\"#fdca26\"],[1.0,\"#f0f921\"]]}],\"choropleth\":[{\"type\":\"choropleth\",\"colorbar\":{\"outlinewidth\":0,\"ticks\":\"\"}}],\"histogram2d\":[{\"type\":\"histogram2d\",\"colorbar\":{\"outlinewidth\":0,\"ticks\":\"\"},\"colorscale\":[[0.0,\"#0d0887\"],[0.1111111111111111,\"#46039f\"],[0.2222222222222222,\"#7201a8\"],[0.3333333333333333,\"#9c179e\"],[0.4444444444444444,\"#bd3786\"],[0.5555555555555556,\"#d8576b\"],[0.6666666666666666,\"#ed7953\"],[0.7777777777777778,\"#fb9f3a\"],[0.8888888888888888,\"#fdca26\"],[1.0,\"#f0f921\"]]}],\"heatmap\":[{\"type\":\"heatmap\",\"colorbar\":{\"outlinewidth\":0,\"ticks\":\"\"},\"colorscale\":[[0.0,\"#0d0887\"],[0.1111111111111111,\"#46039f\"],[0.2222222222222222,\"#7201a8\"],[0.3333333333333333,\"#9c179e\"],[0.4444444444444444,\"#bd3786\"],[0.5555555555555556,\"#d8576b\"],[0.6666666666666666,\"#ed7953\"],[0.7777777777777778,\"#fb9f3a\"],[0.8888888888888888,\"#fdca26\"],[1.0,\"#f0f921\"]]}],\"contourcarpet\":[{\"type\":\"contourcarpet\",\"colorbar\":{\"outlinewidth\":0,\"ticks\":\"\"}}],\"contour\":[{\"type\":\"contour\",\"colorbar\":{\"outlinewidth\":0,\"ticks\":\"\"},\"colorscale\":[[0.0,\"#0d0887\"],[0.1111111111111111,\"#46039f\"],[0.2222222222222222,\"#7201a8\"],[0.3333333333333333,\"#9c179e\"],[0.4444444444444444,\"#bd3786\"],[0.5555555555555556,\"#d8576b\"],[0.6666666666666666,\"#ed7953\"],[0.7777777777777778,\"#fb9f3a\"],[0.8888888888888888,\"#fdca26\"],[1.0,\"#f0f921\"]]}],\"surface\":[{\"type\":\"surface\",\"colorbar\":{\"outlinewidth\":0,\"ticks\":\"\"},\"colorscale\":[[0.0,\"#0d0887\"],[0.1111111111111111,\"#46039f\"],[0.2222222222222222,\"#7201a8\"],[0.3333333333333333,\"#9c179e\"],[0.4444444444444444,\"#bd3786\"],[0.5555555555555556,\"#d8576b\"],[0.6666666666666666,\"#ed7953\"],[0.7777777777777778,\"#fb9f3a\"],[0.8888888888888888,\"#fdca26\"],[1.0,\"#f0f921\"]]}],\"mesh3d\":[{\"type\":\"mesh3d\",\"colorbar\":{\"outlinewidth\":0,\"ticks\":\"\"}}],\"scatter\":[{\"fillpattern\":{\"fillmode\":\"overlay\",\"size\":10,\"solidity\":0.2},\"type\":\"scatter\"}],\"parcoords\":[{\"type\":\"parcoords\",\"line\":{\"colorbar\":{\"outlinewidth\":0,\"ticks\":\"\"}}}],\"scatterpolargl\":[{\"type\":\"scatterpolargl\",\"marker\":{\"colorbar\":{\"outlinewidth\":0,\"ticks\":\"\"}}}],\"bar\":[{\"error_x\":{\"color\":\"#2a3f5f\"},\"error_y\":{\"color\":\"#2a3f5f\"},\"marker\":{\"line\":{\"color\":\"#E5ECF6\",\"width\":0.5},\"pattern\":{\"fillmode\":\"overlay\",\"size\":10,\"solidity\":0.2}},\"type\":\"bar\"}],\"scattergeo\":[{\"type\":\"scattergeo\",\"marker\":{\"colorbar\":{\"outlinewidth\":0,\"ticks\":\"\"}}}],\"scatterpolar\":[{\"type\":\"scatterpolar\",\"marker\":{\"colorbar\":{\"outlinewidth\":0,\"ticks\":\"\"}}}],\"histogram\":[{\"marker\":{\"pattern\":{\"fillmode\":\"overlay\",\"size\":10,\"solidity\":0.2}},\"type\":\"histogram\"}],\"scattergl\":[{\"type\":\"scattergl\",\"marker\":{\"colorbar\":{\"outlinewidth\":0,\"ticks\":\"\"}}}],\"scatter3d\":[{\"type\":\"scatter3d\",\"line\":{\"colorbar\":{\"outlinewidth\":0,\"ticks\":\"\"}},\"marker\":{\"colorbar\":{\"outlinewidth\":0,\"ticks\":\"\"}}}],\"scattermap\":[{\"type\":\"scattermap\",\"marker\":{\"colorbar\":{\"outlinewidth\":0,\"ticks\":\"\"}}}],\"scattermapbox\":[{\"type\":\"scattermapbox\",\"marker\":{\"colorbar\":{\"outlinewidth\":0,\"ticks\":\"\"}}}],\"scatterternary\":[{\"type\":\"scatterternary\",\"marker\":{\"colorbar\":{\"outlinewidth\":0,\"ticks\":\"\"}}}],\"scattercarpet\":[{\"type\":\"scattercarpet\",\"marker\":{\"colorbar\":{\"outlinewidth\":0,\"ticks\":\"\"}}}],\"carpet\":[{\"aaxis\":{\"endlinecolor\":\"#2a3f5f\",\"gridcolor\":\"white\",\"linecolor\":\"white\",\"minorgridcolor\":\"white\",\"startlinecolor\":\"#2a3f5f\"},\"baxis\":{\"endlinecolor\":\"#2a3f5f\",\"gridcolor\":\"white\",\"linecolor\":\"white\",\"minorgridcolor\":\"white\",\"startlinecolor\":\"#2a3f5f\"},\"type\":\"carpet\"}],\"table\":[{\"cells\":{\"fill\":{\"color\":\"#EBF0F8\"},\"line\":{\"color\":\"white\"}},\"header\":{\"fill\":{\"color\":\"#C8D4E3\"},\"line\":{\"color\":\"white\"}},\"type\":\"table\"}],\"barpolar\":[{\"marker\":{\"line\":{\"color\":\"#E5ECF6\",\"width\":0.5},\"pattern\":{\"fillmode\":\"overlay\",\"size\":10,\"solidity\":0.2}},\"type\":\"barpolar\"}],\"pie\":[{\"automargin\":true,\"type\":\"pie\"}]},\"layout\":{\"autotypenumbers\":\"strict\",\"colorway\":[\"#636efa\",\"#EF553B\",\"#00cc96\",\"#ab63fa\",\"#FFA15A\",\"#19d3f3\",\"#FF6692\",\"#B6E880\",\"#FF97FF\",\"#FECB52\"],\"font\":{\"color\":\"#2a3f5f\"},\"hovermode\":\"closest\",\"hoverlabel\":{\"align\":\"left\"},\"paper_bgcolor\":\"white\",\"plot_bgcolor\":\"#E5ECF6\",\"polar\":{\"bgcolor\":\"#E5ECF6\",\"angularaxis\":{\"gridcolor\":\"white\",\"linecolor\":\"white\",\"ticks\":\"\"},\"radialaxis\":{\"gridcolor\":\"white\",\"linecolor\":\"white\",\"ticks\":\"\"}},\"ternary\":{\"bgcolor\":\"#E5ECF6\",\"aaxis\":{\"gridcolor\":\"white\",\"linecolor\":\"white\",\"ticks\":\"\"},\"baxis\":{\"gridcolor\":\"white\",\"linecolor\":\"white\",\"ticks\":\"\"},\"caxis\":{\"gridcolor\":\"white\",\"linecolor\":\"white\",\"ticks\":\"\"}},\"coloraxis\":{\"colorbar\":{\"outlinewidth\":0,\"ticks\":\"\"}},\"colorscale\":{\"sequential\":[[0.0,\"#0d0887\"],[0.1111111111111111,\"#46039f\"],[0.2222222222222222,\"#7201a8\"],[0.3333333333333333,\"#9c179e\"],[0.4444444444444444,\"#bd3786\"],[0.5555555555555556,\"#d8576b\"],[0.6666666666666666,\"#ed7953\"],[0.7777777777777778,\"#fb9f3a\"],[0.8888888888888888,\"#fdca26\"],[1.0,\"#f0f921\"]],\"sequentialminus\":[[0.0,\"#0d0887\"],[0.1111111111111111,\"#46039f\"],[0.2222222222222222,\"#7201a8\"],[0.3333333333333333,\"#9c179e\"],[0.4444444444444444,\"#bd3786\"],[0.5555555555555556,\"#d8576b\"],[0.6666666666666666,\"#ed7953\"],[0.7777777777777778,\"#fb9f3a\"],[0.8888888888888888,\"#fdca26\"],[1.0,\"#f0f921\"]],\"diverging\":[[0,\"#8e0152\"],[0.1,\"#c51b7d\"],[0.2,\"#de77ae\"],[0.3,\"#f1b6da\"],[0.4,\"#fde0ef\"],[0.5,\"#f7f7f7\"],[0.6,\"#e6f5d0\"],[0.7,\"#b8e186\"],[0.8,\"#7fbc41\"],[0.9,\"#4d9221\"],[1,\"#276419\"]]},\"xaxis\":{\"gridcolor\":\"white\",\"linecolor\":\"white\",\"ticks\":\"\",\"title\":{\"standoff\":15},\"zerolinecolor\":\"white\",\"automargin\":true,\"zerolinewidth\":2},\"yaxis\":{\"gridcolor\":\"white\",\"linecolor\":\"white\",\"ticks\":\"\",\"title\":{\"standoff\":15},\"zerolinecolor\":\"white\",\"automargin\":true,\"zerolinewidth\":2},\"scene\":{\"xaxis\":{\"backgroundcolor\":\"#E5ECF6\",\"gridcolor\":\"white\",\"linecolor\":\"white\",\"showbackground\":true,\"ticks\":\"\",\"zerolinecolor\":\"white\",\"gridwidth\":2},\"yaxis\":{\"backgroundcolor\":\"#E5ECF6\",\"gridcolor\":\"white\",\"linecolor\":\"white\",\"showbackground\":true,\"ticks\":\"\",\"zerolinecolor\":\"white\",\"gridwidth\":2},\"zaxis\":{\"backgroundcolor\":\"#E5ECF6\",\"gridcolor\":\"white\",\"linecolor\":\"white\",\"showbackground\":true,\"ticks\":\"\",\"zerolinecolor\":\"white\",\"gridwidth\":2}},\"shapedefaults\":{\"line\":{\"color\":\"#2a3f5f\"}},\"annotationdefaults\":{\"arrowcolor\":\"#2a3f5f\",\"arrowhead\":0,\"arrowwidth\":1},\"geo\":{\"bgcolor\":\"white\",\"landcolor\":\"#E5ECF6\",\"subunitcolor\":\"white\",\"showland\":true,\"showlakes\":true,\"lakecolor\":\"white\"},\"title\":{\"x\":0.05},\"mapbox\":{\"style\":\"light\"}}},\"legend\":{\"tracegroupgap\":0},\"title\":{\"text\":\"Service_Appreciation distribution\",\"font\":{\"size\":12},\"x\":0.5},\"height\":400,\"width\":400,\"margin\":{\"r\":20,\"l\":20,\"t\":40,\"b\":20},\"showlegend\":false},                        {\"responsive\": true}                    ).then(function(){\n",
       "                            \n",
       "var gd = document.getElementById('a3a8a491-7fd2-41db-9fd2-90ac6a129781');\n",
       "var x = new MutationObserver(function (mutations, observer) {{\n",
       "        var display = window.getComputedStyle(gd).display;\n",
       "        if (!display || display === 'none') {{\n",
       "            console.log([gd, 'removed!']);\n",
       "            Plotly.purge(gd);\n",
       "            observer.disconnect();\n",
       "        }}\n",
       "}});\n",
       "\n",
       "// Listen for the removal of the full notebook cells\n",
       "var notebookContainer = gd.closest('#notebook-container');\n",
       "if (notebookContainer) {{\n",
       "    x.observe(notebookContainer, {childList: true});\n",
       "}}\n",
       "\n",
       "// Listen for the clearing of the current output cell\n",
       "var outputEl = gd.closest('.output');\n",
       "if (outputEl) {{\n",
       "    x.observe(outputEl, {childList: true});\n",
       "}}\n",
       "\n",
       "                        })                };            </script>        </div>"
      ]
     },
     "metadata": {},
     "output_type": "display_data"
    }
   ],
   "source": [
    "#Checking Service_Appreciation col\n",
    "col = 'Service_Appreciation'  \n",
    "thr_each = 0.01   # 1%\n",
    "thr_total = 0.03  # 3%\n",
    "\n",
    "vc = df1[col].value_counts(dropna=False, normalize=True)\n",
    "rare_cats = vc[vc < thr_each].index\n",
    "rare_share = vc.loc[rare_cats].sum()\n",
    "\n",
    "if rare_share <= thr_total:\n",
    "    df1[col] = df1[col].astype('object').where(~df1[col].isin(rare_cats), 'Other')\n",
    "counts = df1['Service_Appreciation'].value_counts(dropna=False).reset_index()\n",
    "counts.columns = ['Service_Appreciation', 'count']\n",
    "\n",
    "fig = px.pie(\n",
    "    data_frame=counts,\n",
    "    names='Service_Appreciation',\n",
    "    values='count',\n",
    "    title='Service_Appreciation distribution',\n",
    "    width=400, height=400\n",
    ")\n",
    "\n",
    "fig.update_traces(\n",
    "    textposition='inside',\n",
    "    textinfo='percent',\n",
    "    hovertemplate='%{label}: %{percent} (%{value})<extra></extra>'\n",
    ")\n",
    "fig.update_layout(\n",
    "    showlegend=False,\n",
    "    title_font_size=12,\n",
    "    title_x=0.5,\n",
    "    margin=dict(r=20, l=20, t=40, b=20)\n",
    ")\n",
    "fig.write_image(\"plot2.png\", scale=1)\n",
    "fig.show()"
   ]
  },
  {
   "cell_type": "code",
   "execution_count": 171,
   "id": "eb8ddfaf",
   "metadata": {},
   "outputs": [
    {
     "data": {
      "text/html": [
       "<div>            <script src=\"https://cdnjs.cloudflare.com/ajax/libs/mathjax/2.7.5/MathJax.js?config=TeX-AMS-MML_SVG\"></script><script type=\"text/javascript\">if (window.MathJax && window.MathJax.Hub && window.MathJax.Hub.Config) {window.MathJax.Hub.Config({SVG: {font: \"STIX-Web\"}});}</script>                <script type=\"text/javascript\">window.PlotlyConfig = {MathJaxConfig: 'local'};</script>\n",
       "        <script charset=\"utf-8\" src=\"https://cdn.plot.ly/plotly-3.1.0.min.js\" integrity=\"sha256-Ei4740bWZhaUTQuD6q9yQlgVCMPBz6CZWhevDYPv93A=\" crossorigin=\"anonymous\"></script>                <div id=\"32c12bb6-1d6e-4271-bb81-e0a97cc8ca70\" class=\"plotly-graph-div\" style=\"height:400px; width:400px;\"></div>            <script type=\"text/javascript\">                window.PLOTLYENV=window.PLOTLYENV || {};                                if (document.getElementById(\"32c12bb6-1d6e-4271-bb81-e0a97cc8ca70\")) {                    Plotly.newPlot(                        \"32c12bb6-1d6e-4271-bb81-e0a97cc8ca70\",                        [{\"domain\":{\"x\":[0.0,1.0],\"y\":[0.0,1.0]},\"hovertemplate\":\"%{label}: %{percent} (%{value})\\u003cextra\\u003e\\u003c\\u002fextra\\u003e\",\"labels\":[\"Customer service responsiveness\",\"Product quality and accuracy\",\"Reducing packaging waste\",\"Shipping speed and reliability\",\"Other\"],\"legendgroup\":\"\",\"name\":\"\",\"showlegend\":true,\"values\":{\"dtype\":\"i2\",\"bdata\":\"2QCfAIUATwAOAA==\"},\"type\":\"pie\",\"textinfo\":\"percent\",\"textposition\":\"inside\"}],                        {\"template\":{\"data\":{\"histogram2dcontour\":[{\"type\":\"histogram2dcontour\",\"colorbar\":{\"outlinewidth\":0,\"ticks\":\"\"},\"colorscale\":[[0.0,\"#0d0887\"],[0.1111111111111111,\"#46039f\"],[0.2222222222222222,\"#7201a8\"],[0.3333333333333333,\"#9c179e\"],[0.4444444444444444,\"#bd3786\"],[0.5555555555555556,\"#d8576b\"],[0.6666666666666666,\"#ed7953\"],[0.7777777777777778,\"#fb9f3a\"],[0.8888888888888888,\"#fdca26\"],[1.0,\"#f0f921\"]]}],\"choropleth\":[{\"type\":\"choropleth\",\"colorbar\":{\"outlinewidth\":0,\"ticks\":\"\"}}],\"histogram2d\":[{\"type\":\"histogram2d\",\"colorbar\":{\"outlinewidth\":0,\"ticks\":\"\"},\"colorscale\":[[0.0,\"#0d0887\"],[0.1111111111111111,\"#46039f\"],[0.2222222222222222,\"#7201a8\"],[0.3333333333333333,\"#9c179e\"],[0.4444444444444444,\"#bd3786\"],[0.5555555555555556,\"#d8576b\"],[0.6666666666666666,\"#ed7953\"],[0.7777777777777778,\"#fb9f3a\"],[0.8888888888888888,\"#fdca26\"],[1.0,\"#f0f921\"]]}],\"heatmap\":[{\"type\":\"heatmap\",\"colorbar\":{\"outlinewidth\":0,\"ticks\":\"\"},\"colorscale\":[[0.0,\"#0d0887\"],[0.1111111111111111,\"#46039f\"],[0.2222222222222222,\"#7201a8\"],[0.3333333333333333,\"#9c179e\"],[0.4444444444444444,\"#bd3786\"],[0.5555555555555556,\"#d8576b\"],[0.6666666666666666,\"#ed7953\"],[0.7777777777777778,\"#fb9f3a\"],[0.8888888888888888,\"#fdca26\"],[1.0,\"#f0f921\"]]}],\"contourcarpet\":[{\"type\":\"contourcarpet\",\"colorbar\":{\"outlinewidth\":0,\"ticks\":\"\"}}],\"contour\":[{\"type\":\"contour\",\"colorbar\":{\"outlinewidth\":0,\"ticks\":\"\"},\"colorscale\":[[0.0,\"#0d0887\"],[0.1111111111111111,\"#46039f\"],[0.2222222222222222,\"#7201a8\"],[0.3333333333333333,\"#9c179e\"],[0.4444444444444444,\"#bd3786\"],[0.5555555555555556,\"#d8576b\"],[0.6666666666666666,\"#ed7953\"],[0.7777777777777778,\"#fb9f3a\"],[0.8888888888888888,\"#fdca26\"],[1.0,\"#f0f921\"]]}],\"surface\":[{\"type\":\"surface\",\"colorbar\":{\"outlinewidth\":0,\"ticks\":\"\"},\"colorscale\":[[0.0,\"#0d0887\"],[0.1111111111111111,\"#46039f\"],[0.2222222222222222,\"#7201a8\"],[0.3333333333333333,\"#9c179e\"],[0.4444444444444444,\"#bd3786\"],[0.5555555555555556,\"#d8576b\"],[0.6666666666666666,\"#ed7953\"],[0.7777777777777778,\"#fb9f3a\"],[0.8888888888888888,\"#fdca26\"],[1.0,\"#f0f921\"]]}],\"mesh3d\":[{\"type\":\"mesh3d\",\"colorbar\":{\"outlinewidth\":0,\"ticks\":\"\"}}],\"scatter\":[{\"fillpattern\":{\"fillmode\":\"overlay\",\"size\":10,\"solidity\":0.2},\"type\":\"scatter\"}],\"parcoords\":[{\"type\":\"parcoords\",\"line\":{\"colorbar\":{\"outlinewidth\":0,\"ticks\":\"\"}}}],\"scatterpolargl\":[{\"type\":\"scatterpolargl\",\"marker\":{\"colorbar\":{\"outlinewidth\":0,\"ticks\":\"\"}}}],\"bar\":[{\"error_x\":{\"color\":\"#2a3f5f\"},\"error_y\":{\"color\":\"#2a3f5f\"},\"marker\":{\"line\":{\"color\":\"#E5ECF6\",\"width\":0.5},\"pattern\":{\"fillmode\":\"overlay\",\"size\":10,\"solidity\":0.2}},\"type\":\"bar\"}],\"scattergeo\":[{\"type\":\"scattergeo\",\"marker\":{\"colorbar\":{\"outlinewidth\":0,\"ticks\":\"\"}}}],\"scatterpolar\":[{\"type\":\"scatterpolar\",\"marker\":{\"colorbar\":{\"outlinewidth\":0,\"ticks\":\"\"}}}],\"histogram\":[{\"marker\":{\"pattern\":{\"fillmode\":\"overlay\",\"size\":10,\"solidity\":0.2}},\"type\":\"histogram\"}],\"scattergl\":[{\"type\":\"scattergl\",\"marker\":{\"colorbar\":{\"outlinewidth\":0,\"ticks\":\"\"}}}],\"scatter3d\":[{\"type\":\"scatter3d\",\"line\":{\"colorbar\":{\"outlinewidth\":0,\"ticks\":\"\"}},\"marker\":{\"colorbar\":{\"outlinewidth\":0,\"ticks\":\"\"}}}],\"scattermap\":[{\"type\":\"scattermap\",\"marker\":{\"colorbar\":{\"outlinewidth\":0,\"ticks\":\"\"}}}],\"scattermapbox\":[{\"type\":\"scattermapbox\",\"marker\":{\"colorbar\":{\"outlinewidth\":0,\"ticks\":\"\"}}}],\"scatterternary\":[{\"type\":\"scatterternary\",\"marker\":{\"colorbar\":{\"outlinewidth\":0,\"ticks\":\"\"}}}],\"scattercarpet\":[{\"type\":\"scattercarpet\",\"marker\":{\"colorbar\":{\"outlinewidth\":0,\"ticks\":\"\"}}}],\"carpet\":[{\"aaxis\":{\"endlinecolor\":\"#2a3f5f\",\"gridcolor\":\"white\",\"linecolor\":\"white\",\"minorgridcolor\":\"white\",\"startlinecolor\":\"#2a3f5f\"},\"baxis\":{\"endlinecolor\":\"#2a3f5f\",\"gridcolor\":\"white\",\"linecolor\":\"white\",\"minorgridcolor\":\"white\",\"startlinecolor\":\"#2a3f5f\"},\"type\":\"carpet\"}],\"table\":[{\"cells\":{\"fill\":{\"color\":\"#EBF0F8\"},\"line\":{\"color\":\"white\"}},\"header\":{\"fill\":{\"color\":\"#C8D4E3\"},\"line\":{\"color\":\"white\"}},\"type\":\"table\"}],\"barpolar\":[{\"marker\":{\"line\":{\"color\":\"#E5ECF6\",\"width\":0.5},\"pattern\":{\"fillmode\":\"overlay\",\"size\":10,\"solidity\":0.2}},\"type\":\"barpolar\"}],\"pie\":[{\"automargin\":true,\"type\":\"pie\"}]},\"layout\":{\"autotypenumbers\":\"strict\",\"colorway\":[\"#636efa\",\"#EF553B\",\"#00cc96\",\"#ab63fa\",\"#FFA15A\",\"#19d3f3\",\"#FF6692\",\"#B6E880\",\"#FF97FF\",\"#FECB52\"],\"font\":{\"color\":\"#2a3f5f\"},\"hovermode\":\"closest\",\"hoverlabel\":{\"align\":\"left\"},\"paper_bgcolor\":\"white\",\"plot_bgcolor\":\"#E5ECF6\",\"polar\":{\"bgcolor\":\"#E5ECF6\",\"angularaxis\":{\"gridcolor\":\"white\",\"linecolor\":\"white\",\"ticks\":\"\"},\"radialaxis\":{\"gridcolor\":\"white\",\"linecolor\":\"white\",\"ticks\":\"\"}},\"ternary\":{\"bgcolor\":\"#E5ECF6\",\"aaxis\":{\"gridcolor\":\"white\",\"linecolor\":\"white\",\"ticks\":\"\"},\"baxis\":{\"gridcolor\":\"white\",\"linecolor\":\"white\",\"ticks\":\"\"},\"caxis\":{\"gridcolor\":\"white\",\"linecolor\":\"white\",\"ticks\":\"\"}},\"coloraxis\":{\"colorbar\":{\"outlinewidth\":0,\"ticks\":\"\"}},\"colorscale\":{\"sequential\":[[0.0,\"#0d0887\"],[0.1111111111111111,\"#46039f\"],[0.2222222222222222,\"#7201a8\"],[0.3333333333333333,\"#9c179e\"],[0.4444444444444444,\"#bd3786\"],[0.5555555555555556,\"#d8576b\"],[0.6666666666666666,\"#ed7953\"],[0.7777777777777778,\"#fb9f3a\"],[0.8888888888888888,\"#fdca26\"],[1.0,\"#f0f921\"]],\"sequentialminus\":[[0.0,\"#0d0887\"],[0.1111111111111111,\"#46039f\"],[0.2222222222222222,\"#7201a8\"],[0.3333333333333333,\"#9c179e\"],[0.4444444444444444,\"#bd3786\"],[0.5555555555555556,\"#d8576b\"],[0.6666666666666666,\"#ed7953\"],[0.7777777777777778,\"#fb9f3a\"],[0.8888888888888888,\"#fdca26\"],[1.0,\"#f0f921\"]],\"diverging\":[[0,\"#8e0152\"],[0.1,\"#c51b7d\"],[0.2,\"#de77ae\"],[0.3,\"#f1b6da\"],[0.4,\"#fde0ef\"],[0.5,\"#f7f7f7\"],[0.6,\"#e6f5d0\"],[0.7,\"#b8e186\"],[0.8,\"#7fbc41\"],[0.9,\"#4d9221\"],[1,\"#276419\"]]},\"xaxis\":{\"gridcolor\":\"white\",\"linecolor\":\"white\",\"ticks\":\"\",\"title\":{\"standoff\":15},\"zerolinecolor\":\"white\",\"automargin\":true,\"zerolinewidth\":2},\"yaxis\":{\"gridcolor\":\"white\",\"linecolor\":\"white\",\"ticks\":\"\",\"title\":{\"standoff\":15},\"zerolinecolor\":\"white\",\"automargin\":true,\"zerolinewidth\":2},\"scene\":{\"xaxis\":{\"backgroundcolor\":\"#E5ECF6\",\"gridcolor\":\"white\",\"linecolor\":\"white\",\"showbackground\":true,\"ticks\":\"\",\"zerolinecolor\":\"white\",\"gridwidth\":2},\"yaxis\":{\"backgroundcolor\":\"#E5ECF6\",\"gridcolor\":\"white\",\"linecolor\":\"white\",\"showbackground\":true,\"ticks\":\"\",\"zerolinecolor\":\"white\",\"gridwidth\":2},\"zaxis\":{\"backgroundcolor\":\"#E5ECF6\",\"gridcolor\":\"white\",\"linecolor\":\"white\",\"showbackground\":true,\"ticks\":\"\",\"zerolinecolor\":\"white\",\"gridwidth\":2}},\"shapedefaults\":{\"line\":{\"color\":\"#2a3f5f\"}},\"annotationdefaults\":{\"arrowcolor\":\"#2a3f5f\",\"arrowhead\":0,\"arrowwidth\":1},\"geo\":{\"bgcolor\":\"white\",\"landcolor\":\"#E5ECF6\",\"subunitcolor\":\"white\",\"showland\":true,\"showlakes\":true,\"lakecolor\":\"white\"},\"title\":{\"x\":0.05},\"mapbox\":{\"style\":\"light\"}}},\"legend\":{\"tracegroupgap\":0},\"title\":{\"text\":\"Improvement_Areas distribution\",\"font\":{\"size\":12},\"x\":0.5},\"height\":400,\"width\":400,\"margin\":{\"r\":20,\"l\":20,\"t\":40,\"b\":20},\"showlegend\":false},                        {\"responsive\": true}                    ).then(function(){\n",
       "                            \n",
       "var gd = document.getElementById('32c12bb6-1d6e-4271-bb81-e0a97cc8ca70');\n",
       "var x = new MutationObserver(function (mutations, observer) {{\n",
       "        var display = window.getComputedStyle(gd).display;\n",
       "        if (!display || display === 'none') {{\n",
       "            console.log([gd, 'removed!']);\n",
       "            Plotly.purge(gd);\n",
       "            observer.disconnect();\n",
       "        }}\n",
       "}});\n",
       "\n",
       "// Listen for the removal of the full notebook cells\n",
       "var notebookContainer = gd.closest('#notebook-container');\n",
       "if (notebookContainer) {{\n",
       "    x.observe(notebookContainer, {childList: true});\n",
       "}}\n",
       "\n",
       "// Listen for the clearing of the current output cell\n",
       "var outputEl = gd.closest('.output');\n",
       "if (outputEl) {{\n",
       "    x.observe(outputEl, {childList: true});\n",
       "}}\n",
       "\n",
       "                        })                };            </script>        </div>"
      ]
     },
     "metadata": {},
     "output_type": "display_data"
    }
   ],
   "source": [
    "#Checking Improvement_Areas col\n",
    "col = 'Improvement_Areas'  # change to your column\n",
    "thr_each = 0.01   # 1%\n",
    "thr_total = 0.03  # 3%\n",
    "\n",
    "vc = df1[col].value_counts(dropna=False, normalize=True)\n",
    "rare_cats = vc[vc < thr_each].index\n",
    "rare_share = vc.loc[rare_cats].sum()\n",
    "\n",
    "if rare_share <= thr_total:\n",
    "    df1[col] = df1[col].astype('object').where(~df1[col].isin(rare_cats), 'Other')\n",
    "\n",
    "counts = df1['Improvement_Areas'].value_counts(dropna=False).reset_index()\n",
    "counts.columns = ['Improvement_Areas', 'count']\n",
    "\n",
    "fig = px.pie(\n",
    "    data_frame=counts,\n",
    "    names='Improvement_Areas',\n",
    "    values='count',\n",
    "    title='Improvement_Areas distribution',\n",
    "    width=400, height=400\n",
    ")\n",
    "\n",
    "fig.update_traces(\n",
    "    textposition='inside',\n",
    "    textinfo='percent',\n",
    "    hovertemplate='%{label}: %{percent} (%{value})<extra></extra>'\n",
    ")\n",
    "fig.update_layout(\n",
    "    showlegend=False,\n",
    "    title_font_size=12,\n",
    "    title_x=0.5,\n",
    "    margin=dict(r=20, l=20, t=40, b=20)\n",
    ")\n",
    "fig.write_image(\"plot3.png\",scale=1)\n",
    "fig.show()"
   ]
  },
  {
   "cell_type": "code",
   "execution_count": 172,
   "id": "5de401ef",
   "metadata": {},
   "outputs": [
    {
     "data": {
      "text/plain": [
       "Maybe    248\n",
       "Yes      216\n",
       "No       138\n",
       "Name: Add_to_Cart_Browsing, dtype: int64"
      ]
     },
     "execution_count": 172,
     "metadata": {},
     "output_type": "execute_result"
    }
   ],
   "source": [
    "df1['Add_to_Cart_Browsing'].value_counts()"
   ]
  },
  {
   "cell_type": "code",
   "execution_count": 173,
   "id": "32e564f4",
   "metadata": {},
   "outputs": [],
   "source": [
    "#Exploratory Data Analysis: Identify trends, correlations, and distributions."
   ]
  },
  {
   "cell_type": "code",
   "execution_count": 174,
   "id": "de597a7a",
   "metadata": {},
   "outputs": [
    {
     "data": {
      "text/plain": [
       "<Figure size 600x400 with 0 Axes>"
      ]
     },
     "metadata": {},
     "output_type": "display_data"
    },
    {
     "data": {
      "image/png": "[encoded data removed]",
      "text/plain": [
       "<Figure size 800x400 with 1 Axes>"
      ]
     },
     "metadata": {},
     "output_type": "display_data"
    }
   ],
   "source": [
    "#Age Analysis\n",
    "import statistics\n",
    "plt.figure(figsize=(6,4))\n",
    "sns.displot(data=df1, x='age', kde=True, height=4, aspect=2)\n",
    "plt.title('Amazon customer distribution by age' , fontsize = 10)\n",
    "plt.savefig(\"plot4.png\")\n",
    "plt.show()\n",
    "\n"
   ]
  },
  {
   "cell_type": "code",
   "execution_count": 175,
   "id": "7537889c",
   "metadata": {},
   "outputs": [
    {
     "data": {
      "text/html": [
       "<div>            <script src=\"https://cdnjs.cloudflare.com/ajax/libs/mathjax/2.7.5/MathJax.js?config=TeX-AMS-MML_SVG\"></script><script type=\"text/javascript\">if (window.MathJax && window.MathJax.Hub && window.MathJax.Hub.Config) {window.MathJax.Hub.Config({SVG: {font: \"STIX-Web\"}});}</script>                <script type=\"text/javascript\">window.PlotlyConfig = {MathJaxConfig: 'local'};</script>\n",
       "        <script charset=\"utf-8\" src=\"https://cdn.plot.ly/plotly-3.1.0.min.js\" integrity=\"sha256-Ei4740bWZhaUTQuD6q9yQlgVCMPBz6CZWhevDYPv93A=\" crossorigin=\"anonymous\"></script>                <div id=\"f2466af3-7a8b-4a9a-86b2-b3b66af361eb\" class=\"plotly-graph-div\" style=\"height:400px; width:400px;\"></div>            <script type=\"text/javascript\">                window.PLOTLYENV=window.PLOTLYENV || {};                                if (document.getElementById(\"f2466af3-7a8b-4a9a-86b2-b3b66af361eb\")) {                    Plotly.newPlot(                        \"f2466af3-7a8b-4a9a-86b2-b3b66af361eb\",                        [{\"customdata\":[[\"Female\"],[\"Male\"],[\"Prefer not to say\"],[\"Others\"]],\"domain\":{\"x\":[0.0,1.0],\"y\":[0.0,1.0]},\"hovertemplate\":\"Gender=%{customdata[0]}\\u003cbr\\u003ecount=%{value}\\u003cextra\\u003e\\u003c\\u002fextra\\u003e\",\"labels\":[\"Female\",\"Male\",\"Prefer not to say\",\"Others\"],\"legendgroup\":\"\",\"marker\":{\"colors\":[\"#636efa\",\"#EF553B\",\"#00cc96\",\"#ab63fa\"]},\"name\":\"\",\"showlegend\":true,\"values\":{\"dtype\":\"i2\",\"bdata\":\"YAGOAFkAEwA=\"},\"type\":\"pie\"}],                        {\"template\":{\"data\":{\"histogram2dcontour\":[{\"type\":\"histogram2dcontour\",\"colorbar\":{\"outlinewidth\":0,\"ticks\":\"\"},\"colorscale\":[[0.0,\"#0d0887\"],[0.1111111111111111,\"#46039f\"],[0.2222222222222222,\"#7201a8\"],[0.3333333333333333,\"#9c179e\"],[0.4444444444444444,\"#bd3786\"],[0.5555555555555556,\"#d8576b\"],[0.6666666666666666,\"#ed7953\"],[0.7777777777777778,\"#fb9f3a\"],[0.8888888888888888,\"#fdca26\"],[1.0,\"#f0f921\"]]}],\"choropleth\":[{\"type\":\"choropleth\",\"colorbar\":{\"outlinewidth\":0,\"ticks\":\"\"}}],\"histogram2d\":[{\"type\":\"histogram2d\",\"colorbar\":{\"outlinewidth\":0,\"ticks\":\"\"},\"colorscale\":[[0.0,\"#0d0887\"],[0.1111111111111111,\"#46039f\"],[0.2222222222222222,\"#7201a8\"],[0.3333333333333333,\"#9c179e\"],[0.4444444444444444,\"#bd3786\"],[0.5555555555555556,\"#d8576b\"],[0.6666666666666666,\"#ed7953\"],[0.7777777777777778,\"#fb9f3a\"],[0.8888888888888888,\"#fdca26\"],[1.0,\"#f0f921\"]]}],\"heatmap\":[{\"type\":\"heatmap\",\"colorbar\":{\"outlinewidth\":0,\"ticks\":\"\"},\"colorscale\":[[0.0,\"#0d0887\"],[0.1111111111111111,\"#46039f\"],[0.2222222222222222,\"#7201a8\"],[0.3333333333333333,\"#9c179e\"],[0.4444444444444444,\"#bd3786\"],[0.5555555555555556,\"#d8576b\"],[0.6666666666666666,\"#ed7953\"],[0.7777777777777778,\"#fb9f3a\"],[0.8888888888888888,\"#fdca26\"],[1.0,\"#f0f921\"]]}],\"contourcarpet\":[{\"type\":\"contourcarpet\",\"colorbar\":{\"outlinewidth\":0,\"ticks\":\"\"}}],\"contour\":[{\"type\":\"contour\",\"colorbar\":{\"outlinewidth\":0,\"ticks\":\"\"},\"colorscale\":[[0.0,\"#0d0887\"],[0.1111111111111111,\"#46039f\"],[0.2222222222222222,\"#7201a8\"],[0.3333333333333333,\"#9c179e\"],[0.4444444444444444,\"#bd3786\"],[0.5555555555555556,\"#d8576b\"],[0.6666666666666666,\"#ed7953\"],[0.7777777777777778,\"#fb9f3a\"],[0.8888888888888888,\"#fdca26\"],[1.0,\"#f0f921\"]]}],\"surface\":[{\"type\":\"surface\",\"colorbar\":{\"outlinewidth\":0,\"ticks\":\"\"},\"colorscale\":[[0.0,\"#0d0887\"],[0.1111111111111111,\"#46039f\"],[0.2222222222222222,\"#7201a8\"],[0.3333333333333333,\"#9c179e\"],[0.4444444444444444,\"#bd3786\"],[0.5555555555555556,\"#d8576b\"],[0.6666666666666666,\"#ed7953\"],[0.7777777777777778,\"#fb9f3a\"],[0.8888888888888888,\"#fdca26\"],[1.0,\"#f0f921\"]]}],\"mesh3d\":[{\"type\":\"mesh3d\",\"colorbar\":{\"outlinewidth\":0,\"ticks\":\"\"}}],\"scatter\":[{\"fillpattern\":{\"fillmode\":\"overlay\",\"size\":10,\"solidity\":0.2},\"type\":\"scatter\"}],\"parcoords\":[{\"type\":\"parcoords\",\"line\":{\"colorbar\":{\"outlinewidth\":0,\"ticks\":\"\"}}}],\"scatterpolargl\":[{\"type\":\"scatterpolargl\",\"marker\":{\"colorbar\":{\"outlinewidth\":0,\"ticks\":\"\"}}}],\"bar\":[{\"error_x\":{\"color\":\"#2a3f5f\"},\"error_y\":{\"color\":\"#2a3f5f\"},\"marker\":{\"line\":{\"color\":\"#E5ECF6\",\"width\":0.5},\"pattern\":{\"fillmode\":\"overlay\",\"size\":10,\"solidity\":0.2}},\"type\":\"bar\"}],\"scattergeo\":[{\"type\":\"scattergeo\",\"marker\":{\"colorbar\":{\"outlinewidth\":0,\"ticks\":\"\"}}}],\"scatterpolar\":[{\"type\":\"scatterpolar\",\"marker\":{\"colorbar\":{\"outlinewidth\":0,\"ticks\":\"\"}}}],\"histogram\":[{\"marker\":{\"pattern\":{\"fillmode\":\"overlay\",\"size\":10,\"solidity\":0.2}},\"type\":\"histogram\"}],\"scattergl\":[{\"type\":\"scattergl\",\"marker\":{\"colorbar\":{\"outlinewidth\":0,\"ticks\":\"\"}}}],\"scatter3d\":[{\"type\":\"scatter3d\",\"line\":{\"colorbar\":{\"outlinewidth\":0,\"ticks\":\"\"}},\"marker\":{\"colorbar\":{\"outlinewidth\":0,\"ticks\":\"\"}}}],\"scattermap\":[{\"type\":\"scattermap\",\"marker\":{\"colorbar\":{\"outlinewidth\":0,\"ticks\":\"\"}}}],\"scattermapbox\":[{\"type\":\"scattermapbox\",\"marker\":{\"colorbar\":{\"outlinewidth\":0,\"ticks\":\"\"}}}],\"scatterternary\":[{\"type\":\"scatterternary\",\"marker\":{\"colorbar\":{\"outlinewidth\":0,\"ticks\":\"\"}}}],\"scattercarpet\":[{\"type\":\"scattercarpet\",\"marker\":{\"colorbar\":{\"outlinewidth\":0,\"ticks\":\"\"}}}],\"carpet\":[{\"aaxis\":{\"endlinecolor\":\"#2a3f5f\",\"gridcolor\":\"white\",\"linecolor\":\"white\",\"minorgridcolor\":\"white\",\"startlinecolor\":\"#2a3f5f\"},\"baxis\":{\"endlinecolor\":\"#2a3f5f\",\"gridcolor\":\"white\",\"linecolor\":\"white\",\"minorgridcolor\":\"white\",\"startlinecolor\":\"#2a3f5f\"},\"type\":\"carpet\"}],\"table\":[{\"cells\":{\"fill\":{\"color\":\"#EBF0F8\"},\"line\":{\"color\":\"white\"}},\"header\":{\"fill\":{\"color\":\"#C8D4E3\"},\"line\":{\"color\":\"white\"}},\"type\":\"table\"}],\"barpolar\":[{\"marker\":{\"line\":{\"color\":\"#E5ECF6\",\"width\":0.5},\"pattern\":{\"fillmode\":\"overlay\",\"size\":10,\"solidity\":0.2}},\"type\":\"barpolar\"}],\"pie\":[{\"automargin\":true,\"type\":\"pie\"}]},\"layout\":{\"autotypenumbers\":\"strict\",\"colorway\":[\"#636efa\",\"#EF553B\",\"#00cc96\",\"#ab63fa\",\"#FFA15A\",\"#19d3f3\",\"#FF6692\",\"#B6E880\",\"#FF97FF\",\"#FECB52\"],\"font\":{\"color\":\"#2a3f5f\"},\"hovermode\":\"closest\",\"hoverlabel\":{\"align\":\"left\"},\"paper_bgcolor\":\"white\",\"plot_bgcolor\":\"#E5ECF6\",\"polar\":{\"bgcolor\":\"#E5ECF6\",\"angularaxis\":{\"gridcolor\":\"white\",\"linecolor\":\"white\",\"ticks\":\"\"},\"radialaxis\":{\"gridcolor\":\"white\",\"linecolor\":\"white\",\"ticks\":\"\"}},\"ternary\":{\"bgcolor\":\"#E5ECF6\",\"aaxis\":{\"gridcolor\":\"white\",\"linecolor\":\"white\",\"ticks\":\"\"},\"baxis\":{\"gridcolor\":\"white\",\"linecolor\":\"white\",\"ticks\":\"\"},\"caxis\":{\"gridcolor\":\"white\",\"linecolor\":\"white\",\"ticks\":\"\"}},\"coloraxis\":{\"colorbar\":{\"outlinewidth\":0,\"ticks\":\"\"}},\"colorscale\":{\"sequential\":[[0.0,\"#0d0887\"],[0.1111111111111111,\"#46039f\"],[0.2222222222222222,\"#7201a8\"],[0.3333333333333333,\"#9c179e\"],[0.4444444444444444,\"#bd3786\"],[0.5555555555555556,\"#d8576b\"],[0.6666666666666666,\"#ed7953\"],[0.7777777777777778,\"#fb9f3a\"],[0.8888888888888888,\"#fdca26\"],[1.0,\"#f0f921\"]],\"sequentialminus\":[[0.0,\"#0d0887\"],[0.1111111111111111,\"#46039f\"],[0.2222222222222222,\"#7201a8\"],[0.3333333333333333,\"#9c179e\"],[0.4444444444444444,\"#bd3786\"],[0.5555555555555556,\"#d8576b\"],[0.6666666666666666,\"#ed7953\"],[0.7777777777777778,\"#fb9f3a\"],[0.8888888888888888,\"#fdca26\"],[1.0,\"#f0f921\"]],\"diverging\":[[0,\"#8e0152\"],[0.1,\"#c51b7d\"],[0.2,\"#de77ae\"],[0.3,\"#f1b6da\"],[0.4,\"#fde0ef\"],[0.5,\"#f7f7f7\"],[0.6,\"#e6f5d0\"],[0.7,\"#b8e186\"],[0.8,\"#7fbc41\"],[0.9,\"#4d9221\"],[1,\"#276419\"]]},\"xaxis\":{\"gridcolor\":\"white\",\"linecolor\":\"white\",\"ticks\":\"\",\"title\":{\"standoff\":15},\"zerolinecolor\":\"white\",\"automargin\":true,\"zerolinewidth\":2},\"yaxis\":{\"gridcolor\":\"white\",\"linecolor\":\"white\",\"ticks\":\"\",\"title\":{\"standoff\":15},\"zerolinecolor\":\"white\",\"automargin\":true,\"zerolinewidth\":2},\"scene\":{\"xaxis\":{\"backgroundcolor\":\"#E5ECF6\",\"gridcolor\":\"white\",\"linecolor\":\"white\",\"showbackground\":true,\"ticks\":\"\",\"zerolinecolor\":\"white\",\"gridwidth\":2},\"yaxis\":{\"backgroundcolor\":\"#E5ECF6\",\"gridcolor\":\"white\",\"linecolor\":\"white\",\"showbackground\":true,\"ticks\":\"\",\"zerolinecolor\":\"white\",\"gridwidth\":2},\"zaxis\":{\"backgroundcolor\":\"#E5ECF6\",\"gridcolor\":\"white\",\"linecolor\":\"white\",\"showbackground\":true,\"ticks\":\"\",\"zerolinecolor\":\"white\",\"gridwidth\":2}},\"shapedefaults\":{\"line\":{\"color\":\"#2a3f5f\"}},\"annotationdefaults\":{\"arrowcolor\":\"#2a3f5f\",\"arrowhead\":0,\"arrowwidth\":1},\"geo\":{\"bgcolor\":\"white\",\"landcolor\":\"#E5ECF6\",\"subunitcolor\":\"white\",\"showland\":true,\"showlakes\":true,\"lakecolor\":\"white\"},\"title\":{\"x\":0.05},\"mapbox\":{\"style\":\"light\"}}},\"legend\":{\"tracegroupgap\":0},\"margin\":{\"t\":40,\"r\":20,\"l\":20,\"b\":20},\"title\":{\"text\":\"Customer Gender Distribution\",\"font\":{\"size\":12},\"x\":0.5},\"height\":400,\"width\":400,\"showlegend\":true},                        {\"responsive\": true}                    ).then(function(){\n",
       "                            \n",
       "var gd = document.getElementById('f2466af3-7a8b-4a9a-86b2-b3b66af361eb');\n",
       "var x = new MutationObserver(function (mutations, observer) {{\n",
       "        var display = window.getComputedStyle(gd).display;\n",
       "        if (!display || display === 'none') {{\n",
       "            console.log([gd, 'removed!']);\n",
       "            Plotly.purge(gd);\n",
       "            observer.disconnect();\n",
       "        }}\n",
       "}});\n",
       "\n",
       "// Listen for the removal of the full notebook cells\n",
       "var notebookContainer = gd.closest('#notebook-container');\n",
       "if (notebookContainer) {{\n",
       "    x.observe(notebookContainer, {childList: true});\n",
       "}}\n",
       "\n",
       "// Listen for the clearing of the current output cell\n",
       "var outputEl = gd.closest('.output');\n",
       "if (outputEl) {{\n",
       "    x.observe(outputEl, {childList: true});\n",
       "}}\n",
       "\n",
       "                        })                };            </script>        </div>"
      ]
     },
     "metadata": {},
     "output_type": "display_data"
    }
   ],
   "source": [
    "#Gender analysis\n",
    "import plotly.express as px\n",
    "\n",
    "Gender = df['Gender'].value_counts().reset_index()\n",
    "Gender.columns = ['Gender', 'count']   \n",
    "\n",
    "fig = px.pie(\n",
    "    data_frame=Gender,\n",
    "    names='Gender',\n",
    "    values='count',\n",
    "    color='Gender',   \n",
    ")\n",
    "\n",
    "fig.update_layout(\n",
    "    height=400, width=400, showlegend=True,\n",
    "    title=\"Customer Gender Distribution\",\n",
    "    title_font_size=12, title_x=0.5,\n",
    "    margin=dict(r=20, l=20, t=40, b=20))\n",
    "    \n",
    "fig.write_image(\"plot5.png\", scale=1)\n",
    "fig.show()\n"
   ]
  },
  {
   "cell_type": "code",
   "execution_count": 176,
   "id": "04c878a1",
   "metadata": {},
   "outputs": [
    {
     "data": {
      "text/html": [
       "<div>            <script src=\"https://cdnjs.cloudflare.com/ajax/libs/mathjax/2.7.5/MathJax.js?config=TeX-AMS-MML_SVG\"></script><script type=\"text/javascript\">if (window.MathJax && window.MathJax.Hub && window.MathJax.Hub.Config) {window.MathJax.Hub.Config({SVG: {font: \"STIX-Web\"}});}</script>                <script type=\"text/javascript\">window.PlotlyConfig = {MathJaxConfig: 'local'};</script>\n",
       "        <script charset=\"utf-8\" src=\"https://cdn.plot.ly/plotly-3.1.0.min.js\" integrity=\"sha256-Ei4740bWZhaUTQuD6q9yQlgVCMPBz6CZWhevDYPv93A=\" crossorigin=\"anonymous\"></script>                <div id=\"ed1c3e98-b0b4-4639-acc9-94e9f21e2cc0\" class=\"plotly-graph-div\" style=\"height:400px; width:400px;\"></div>            <script type=\"text/javascript\">                window.PLOTLYENV=window.PLOTLYENV || {};                                if (document.getElementById(\"ed1c3e98-b0b4-4639-acc9-94e9f21e2cc0\")) {                    Plotly.newPlot(                        \"ed1c3e98-b0b4-4639-acc9-94e9f21e2cc0\",                        [{\"domain\":{\"x\":[0.0,1.0],\"y\":[0.0,1.0]},\"hovertemplate\":\"\\u003cb\\u003e%{hovertext}\\u003c\\u002fb\\u003e\\u003cbr\\u003e\\u003cbr\\u003eTime_Status=%{label}\\u003cbr\\u003ecount=%{value}\\u003cextra\\u003e\\u003c\\u002fextra\\u003e\",\"hovertext\":[\"Night\",\"Evening\",\"Afternoon\",\"Morning\"],\"labels\":[\"Night\",\"Evening\",\"Afternoon\",\"Morning\"],\"legendgroup\":\"\",\"name\":\"\",\"showlegend\":true,\"values\":{\"dtype\":\"i2\",\"bdata\":\"iQFdAFoAGgA=\"},\"type\":\"pie\"}],                        {\"template\":{\"data\":{\"histogram2dcontour\":[{\"type\":\"histogram2dcontour\",\"colorbar\":{\"outlinewidth\":0,\"ticks\":\"\"},\"colorscale\":[[0.0,\"#0d0887\"],[0.1111111111111111,\"#46039f\"],[0.2222222222222222,\"#7201a8\"],[0.3333333333333333,\"#9c179e\"],[0.4444444444444444,\"#bd3786\"],[0.5555555555555556,\"#d8576b\"],[0.6666666666666666,\"#ed7953\"],[0.7777777777777778,\"#fb9f3a\"],[0.8888888888888888,\"#fdca26\"],[1.0,\"#f0f921\"]]}],\"choropleth\":[{\"type\":\"choropleth\",\"colorbar\":{\"outlinewidth\":0,\"ticks\":\"\"}}],\"histogram2d\":[{\"type\":\"histogram2d\",\"colorbar\":{\"outlinewidth\":0,\"ticks\":\"\"},\"colorscale\":[[0.0,\"#0d0887\"],[0.1111111111111111,\"#46039f\"],[0.2222222222222222,\"#7201a8\"],[0.3333333333333333,\"#9c179e\"],[0.4444444444444444,\"#bd3786\"],[0.5555555555555556,\"#d8576b\"],[0.6666666666666666,\"#ed7953\"],[0.7777777777777778,\"#fb9f3a\"],[0.8888888888888888,\"#fdca26\"],[1.0,\"#f0f921\"]]}],\"heatmap\":[{\"type\":\"heatmap\",\"colorbar\":{\"outlinewidth\":0,\"ticks\":\"\"},\"colorscale\":[[0.0,\"#0d0887\"],[0.1111111111111111,\"#46039f\"],[0.2222222222222222,\"#7201a8\"],[0.3333333333333333,\"#9c179e\"],[0.4444444444444444,\"#bd3786\"],[0.5555555555555556,\"#d8576b\"],[0.6666666666666666,\"#ed7953\"],[0.7777777777777778,\"#fb9f3a\"],[0.8888888888888888,\"#fdca26\"],[1.0,\"#f0f921\"]]}],\"contourcarpet\":[{\"type\":\"contourcarpet\",\"colorbar\":{\"outlinewidth\":0,\"ticks\":\"\"}}],\"contour\":[{\"type\":\"contour\",\"colorbar\":{\"outlinewidth\":0,\"ticks\":\"\"},\"colorscale\":[[0.0,\"#0d0887\"],[0.1111111111111111,\"#46039f\"],[0.2222222222222222,\"#7201a8\"],[0.3333333333333333,\"#9c179e\"],[0.4444444444444444,\"#bd3786\"],[0.5555555555555556,\"#d8576b\"],[0.6666666666666666,\"#ed7953\"],[0.7777777777777778,\"#fb9f3a\"],[0.8888888888888888,\"#fdca26\"],[1.0,\"#f0f921\"]]}],\"surface\":[{\"type\":\"surface\",\"colorbar\":{\"outlinewidth\":0,\"ticks\":\"\"},\"colorscale\":[[0.0,\"#0d0887\"],[0.1111111111111111,\"#46039f\"],[0.2222222222222222,\"#7201a8\"],[0.3333333333333333,\"#9c179e\"],[0.4444444444444444,\"#bd3786\"],[0.5555555555555556,\"#d8576b\"],[0.6666666666666666,\"#ed7953\"],[0.7777777777777778,\"#fb9f3a\"],[0.8888888888888888,\"#fdca26\"],[1.0,\"#f0f921\"]]}],\"mesh3d\":[{\"type\":\"mesh3d\",\"colorbar\":{\"outlinewidth\":0,\"ticks\":\"\"}}],\"scatter\":[{\"fillpattern\":{\"fillmode\":\"overlay\",\"size\":10,\"solidity\":0.2},\"type\":\"scatter\"}],\"parcoords\":[{\"type\":\"parcoords\",\"line\":{\"colorbar\":{\"outlinewidth\":0,\"ticks\":\"\"}}}],\"scatterpolargl\":[{\"type\":\"scatterpolargl\",\"marker\":{\"colorbar\":{\"outlinewidth\":0,\"ticks\":\"\"}}}],\"bar\":[{\"error_x\":{\"color\":\"#2a3f5f\"},\"error_y\":{\"color\":\"#2a3f5f\"},\"marker\":{\"line\":{\"color\":\"#E5ECF6\",\"width\":0.5},\"pattern\":{\"fillmode\":\"overlay\",\"size\":10,\"solidity\":0.2}},\"type\":\"bar\"}],\"scattergeo\":[{\"type\":\"scattergeo\",\"marker\":{\"colorbar\":{\"outlinewidth\":0,\"ticks\":\"\"}}}],\"scatterpolar\":[{\"type\":\"scatterpolar\",\"marker\":{\"colorbar\":{\"outlinewidth\":0,\"ticks\":\"\"}}}],\"histogram\":[{\"marker\":{\"pattern\":{\"fillmode\":\"overlay\",\"size\":10,\"solidity\":0.2}},\"type\":\"histogram\"}],\"scattergl\":[{\"type\":\"scattergl\",\"marker\":{\"colorbar\":{\"outlinewidth\":0,\"ticks\":\"\"}}}],\"scatter3d\":[{\"type\":\"scatter3d\",\"line\":{\"colorbar\":{\"outlinewidth\":0,\"ticks\":\"\"}},\"marker\":{\"colorbar\":{\"outlinewidth\":0,\"ticks\":\"\"}}}],\"scattermap\":[{\"type\":\"scattermap\",\"marker\":{\"colorbar\":{\"outlinewidth\":0,\"ticks\":\"\"}}}],\"scattermapbox\":[{\"type\":\"scattermapbox\",\"marker\":{\"colorbar\":{\"outlinewidth\":0,\"ticks\":\"\"}}}],\"scatterternary\":[{\"type\":\"scatterternary\",\"marker\":{\"colorbar\":{\"outlinewidth\":0,\"ticks\":\"\"}}}],\"scattercarpet\":[{\"type\":\"scattercarpet\",\"marker\":{\"colorbar\":{\"outlinewidth\":0,\"ticks\":\"\"}}}],\"carpet\":[{\"aaxis\":{\"endlinecolor\":\"#2a3f5f\",\"gridcolor\":\"white\",\"linecolor\":\"white\",\"minorgridcolor\":\"white\",\"startlinecolor\":\"#2a3f5f\"},\"baxis\":{\"endlinecolor\":\"#2a3f5f\",\"gridcolor\":\"white\",\"linecolor\":\"white\",\"minorgridcolor\":\"white\",\"startlinecolor\":\"#2a3f5f\"},\"type\":\"carpet\"}],\"table\":[{\"cells\":{\"fill\":{\"color\":\"#EBF0F8\"},\"line\":{\"color\":\"white\"}},\"header\":{\"fill\":{\"color\":\"#C8D4E3\"},\"line\":{\"color\":\"white\"}},\"type\":\"table\"}],\"barpolar\":[{\"marker\":{\"line\":{\"color\":\"#E5ECF6\",\"width\":0.5},\"pattern\":{\"fillmode\":\"overlay\",\"size\":10,\"solidity\":0.2}},\"type\":\"barpolar\"}],\"pie\":[{\"automargin\":true,\"type\":\"pie\"}]},\"layout\":{\"autotypenumbers\":\"strict\",\"colorway\":[\"#636efa\",\"#EF553B\",\"#00cc96\",\"#ab63fa\",\"#FFA15A\",\"#19d3f3\",\"#FF6692\",\"#B6E880\",\"#FF97FF\",\"#FECB52\"],\"font\":{\"color\":\"#2a3f5f\"},\"hovermode\":\"closest\",\"hoverlabel\":{\"align\":\"left\"},\"paper_bgcolor\":\"white\",\"plot_bgcolor\":\"#E5ECF6\",\"polar\":{\"bgcolor\":\"#E5ECF6\",\"angularaxis\":{\"gridcolor\":\"white\",\"linecolor\":\"white\",\"ticks\":\"\"},\"radialaxis\":{\"gridcolor\":\"white\",\"linecolor\":\"white\",\"ticks\":\"\"}},\"ternary\":{\"bgcolor\":\"#E5ECF6\",\"aaxis\":{\"gridcolor\":\"white\",\"linecolor\":\"white\",\"ticks\":\"\"},\"baxis\":{\"gridcolor\":\"white\",\"linecolor\":\"white\",\"ticks\":\"\"},\"caxis\":{\"gridcolor\":\"white\",\"linecolor\":\"white\",\"ticks\":\"\"}},\"coloraxis\":{\"colorbar\":{\"outlinewidth\":0,\"ticks\":\"\"}},\"colorscale\":{\"sequential\":[[0.0,\"#0d0887\"],[0.1111111111111111,\"#46039f\"],[0.2222222222222222,\"#7201a8\"],[0.3333333333333333,\"#9c179e\"],[0.4444444444444444,\"#bd3786\"],[0.5555555555555556,\"#d8576b\"],[0.6666666666666666,\"#ed7953\"],[0.7777777777777778,\"#fb9f3a\"],[0.8888888888888888,\"#fdca26\"],[1.0,\"#f0f921\"]],\"sequentialminus\":[[0.0,\"#0d0887\"],[0.1111111111111111,\"#46039f\"],[0.2222222222222222,\"#7201a8\"],[0.3333333333333333,\"#9c179e\"],[0.4444444444444444,\"#bd3786\"],[0.5555555555555556,\"#d8576b\"],[0.6666666666666666,\"#ed7953\"],[0.7777777777777778,\"#fb9f3a\"],[0.8888888888888888,\"#fdca26\"],[1.0,\"#f0f921\"]],\"diverging\":[[0,\"#8e0152\"],[0.1,\"#c51b7d\"],[0.2,\"#de77ae\"],[0.3,\"#f1b6da\"],[0.4,\"#fde0ef\"],[0.5,\"#f7f7f7\"],[0.6,\"#e6f5d0\"],[0.7,\"#b8e186\"],[0.8,\"#7fbc41\"],[0.9,\"#4d9221\"],[1,\"#276419\"]]},\"xaxis\":{\"gridcolor\":\"white\",\"linecolor\":\"white\",\"ticks\":\"\",\"title\":{\"standoff\":15},\"zerolinecolor\":\"white\",\"automargin\":true,\"zerolinewidth\":2},\"yaxis\":{\"gridcolor\":\"white\",\"linecolor\":\"white\",\"ticks\":\"\",\"title\":{\"standoff\":15},\"zerolinecolor\":\"white\",\"automargin\":true,\"zerolinewidth\":2},\"scene\":{\"xaxis\":{\"backgroundcolor\":\"#E5ECF6\",\"gridcolor\":\"white\",\"linecolor\":\"white\",\"showbackground\":true,\"ticks\":\"\",\"zerolinecolor\":\"white\",\"gridwidth\":2},\"yaxis\":{\"backgroundcolor\":\"#E5ECF6\",\"gridcolor\":\"white\",\"linecolor\":\"white\",\"showbackground\":true,\"ticks\":\"\",\"zerolinecolor\":\"white\",\"gridwidth\":2},\"zaxis\":{\"backgroundcolor\":\"#E5ECF6\",\"gridcolor\":\"white\",\"linecolor\":\"white\",\"showbackground\":true,\"ticks\":\"\",\"zerolinecolor\":\"white\",\"gridwidth\":2}},\"shapedefaults\":{\"line\":{\"color\":\"#2a3f5f\"}},\"annotationdefaults\":{\"arrowcolor\":\"#2a3f5f\",\"arrowhead\":0,\"arrowwidth\":1},\"geo\":{\"bgcolor\":\"white\",\"landcolor\":\"#E5ECF6\",\"subunitcolor\":\"white\",\"showland\":true,\"showlakes\":true,\"lakecolor\":\"white\"},\"title\":{\"x\":0.05},\"mapbox\":{\"style\":\"light\"}}},\"legend\":{\"tracegroupgap\":0},\"title\":{\"text\":\"Sales breakdown by time of day\",\"font\":{\"size\":12},\"x\":0.5},\"margin\":{\"r\":20,\"l\":20,\"t\":40,\"b\":20},\"height\":400,\"width\":400},                        {\"responsive\": true}                    ).then(function(){\n",
       "                            \n",
       "var gd = document.getElementById('ed1c3e98-b0b4-4639-acc9-94e9f21e2cc0');\n",
       "var x = new MutationObserver(function (mutations, observer) {{\n",
       "        var display = window.getComputedStyle(gd).display;\n",
       "        if (!display || display === 'none') {{\n",
       "            console.log([gd, 'removed!']);\n",
       "            Plotly.purge(gd);\n",
       "            observer.disconnect();\n",
       "        }}\n",
       "}});\n",
       "\n",
       "// Listen for the removal of the full notebook cells\n",
       "var notebookContainer = gd.closest('#notebook-container');\n",
       "if (notebookContainer) {{\n",
       "    x.observe(notebookContainer, {childList: true});\n",
       "}}\n",
       "\n",
       "// Listen for the clearing of the current output cell\n",
       "var outputEl = gd.closest('.output');\n",
       "if (outputEl) {{\n",
       "    x.observe(outputEl, {childList: true});\n",
       "}}\n",
       "\n",
       "                        })                };            </script>        </div>"
      ]
     },
     "metadata": {},
     "output_type": "display_data"
    }
   ],
   "source": [
    "#Time segement analysis\n",
    "import plotly.express as px\n",
    "\n",
    "time_counts = df1['Time_Status'].value_counts().reset_index()\n",
    "time_counts.columns = ['Time_Status', 'count']  \n",
    "\n",
    "fig = px.pie(\n",
    "    data_frame=time_counts, \n",
    "    names='Time_Status', \n",
    "    values='count',\n",
    "    hover_name='Time_Status',\n",
    "    title='Sales breakdown by time of day'\n",
    ")\n",
    "\n",
    "fig.update_layout(height=400, width=400, title_font_size=12, title_x=0.5,\n",
    "                 margin=dict(r=20, l=20, t=40, b=20))\n",
    "fig.write_image(\"plot6.png\",scale=1)\n",
    "fig.show()\n"
   ]
  },
  {
   "cell_type": "code",
   "execution_count": 177,
   "id": "80f898f1",
   "metadata": {},
   "outputs": [
    {
     "data": {
      "text/html": [
       "<div>            <script src=\"https://cdnjs.cloudflare.com/ajax/libs/mathjax/2.7.5/MathJax.js?config=TeX-AMS-MML_SVG\"></script><script type=\"text/javascript\">if (window.MathJax && window.MathJax.Hub && window.MathJax.Hub.Config) {window.MathJax.Hub.Config({SVG: {font: \"STIX-Web\"}});}</script>                <script type=\"text/javascript\">window.PlotlyConfig = {MathJaxConfig: 'local'};</script>\n",
       "        <script charset=\"utf-8\" src=\"https://cdn.plot.ly/plotly-3.1.0.min.js\" integrity=\"sha256-Ei4740bWZhaUTQuD6q9yQlgVCMPBz6CZWhevDYPv93A=\" crossorigin=\"anonymous\"></script>                <div id=\"bb8b6356-fedd-48c6-86cb-3bbf5ce3a2c1\" class=\"plotly-graph-div\" style=\"height:800px; width:800px;\"></div>            <script type=\"text/javascript\">                window.PLOTLYENV=window.PLOTLYENV || {};                                if (document.getElementById(\"bb8b6356-fedd-48c6-86cb-3bbf5ce3a2c1\")) {                    Plotly.newPlot(                        \"bb8b6356-fedd-48c6-86cb-3bbf5ce3a2c1\",                        [{\"bingroup\":\"x\",\"histnorm\":\"density\",\"hovertemplate\":\"Gender=Female\\u003cbr\\u003eAdd_to_Cart_Browsing=Yes\\u003cbr\\u003eTime_Status=Morning\\u003cbr\\u003eAge_Category=%{x}\\u003cbr\\u003edensity=%{y}\\u003cextra\\u003e\\u003c\\u002fextra\\u003e\",\"legendgroup\":\"Female\",\"marker\":{\"color\":\"#636efa\",\"opacity\":0.5,\"pattern\":{\"shape\":\"\"}},\"name\":\"Female\",\"orientation\":\"v\",\"showlegend\":true,\"x\":[\"Adult\",\"Young Adult\",\"Adult\",\"Young Adult\",\"Young Adult\",\"Young Adult\",\"Young Adult\",\"Young Adult\",\"Adult\",\"Adult\",\"Adult\",\"Adult\"],\"xaxis\":\"x9\",\"yaxis\":\"y9\",\"type\":\"histogram\"},{\"bingroup\":\"x\",\"histnorm\":\"density\",\"hovertemplate\":\"Gender=Male\\u003cbr\\u003eAdd_to_Cart_Browsing=Yes\\u003cbr\\u003eTime_Status=Morning\\u003cbr\\u003eAge_Category=%{x}\\u003cbr\\u003edensity=%{y}\\u003cextra\\u003e\\u003c\\u002fextra\\u003e\",\"legendgroup\":\"Male\",\"marker\":{\"color\":\"#00cc96\",\"opacity\":0.5,\"pattern\":{\"shape\":\"\"}},\"name\":\"Male\",\"orientation\":\"v\",\"showlegend\":true,\"x\":[\"Young Adult\",\"Middle-Aged Adult\"],\"xaxis\":\"x9\",\"yaxis\":\"y9\",\"type\":\"histogram\"},{\"bingroup\":\"x\",\"histnorm\":\"density\",\"hovertemplate\":\"Gender=Female\\u003cbr\\u003eAdd_to_Cart_Browsing=No\\u003cbr\\u003eTime_Status=Morning\\u003cbr\\u003eAge_Category=%{x}\\u003cbr\\u003edensity=%{y}\\u003cextra\\u003e\\u003c\\u002fextra\\u003e\",\"legendgroup\":\"Female\",\"marker\":{\"color\":\"#636efa\",\"opacity\":0.5,\"pattern\":{\"shape\":\"\"}},\"name\":\"Female\",\"orientation\":\"v\",\"showlegend\":false,\"x\":[\"Senior Citizen\"],\"xaxis\":\"x5\",\"yaxis\":\"y5\",\"type\":\"histogram\"},{\"bingroup\":\"x\",\"histnorm\":\"density\",\"hovertemplate\":\"Gender=Prefer not to say\\u003cbr\\u003eAdd_to_Cart_Browsing=No\\u003cbr\\u003eTime_Status=Morning\\u003cbr\\u003eAge_Category=%{x}\\u003cbr\\u003edensity=%{y}\\u003cextra\\u003e\\u003c\\u002fextra\\u003e\",\"legendgroup\":\"Prefer not to say\",\"marker\":{\"color\":\"#EF553B\",\"opacity\":0.5,\"pattern\":{\"shape\":\"\"}},\"name\":\"Prefer not to say\",\"orientation\":\"v\",\"showlegend\":true,\"x\":[\"Minor\"],\"xaxis\":\"x5\",\"yaxis\":\"y5\",\"type\":\"histogram\"},{\"bingroup\":\"x\",\"histnorm\":\"density\",\"hovertemplate\":\"Gender=Male\\u003cbr\\u003eAdd_to_Cart_Browsing=No\\u003cbr\\u003eTime_Status=Morning\\u003cbr\\u003eAge_Category=%{x}\\u003cbr\\u003edensity=%{y}\\u003cextra\\u003e\\u003c\\u002fextra\\u003e\",\"legendgroup\":\"Male\",\"marker\":{\"color\":\"#00cc96\",\"opacity\":0.5,\"pattern\":{\"shape\":\"\"}},\"name\":\"Male\",\"orientation\":\"v\",\"showlegend\":false,\"x\":[\"Adult\",\"Young Adult\",\"Minor\",\"Adult\"],\"xaxis\":\"x5\",\"yaxis\":\"y5\",\"type\":\"histogram\"},{\"bingroup\":\"x\",\"histnorm\":\"density\",\"hovertemplate\":\"Gender=Others\\u003cbr\\u003eAdd_to_Cart_Browsing=No\\u003cbr\\u003eTime_Status=Morning\\u003cbr\\u003eAge_Category=%{x}\\u003cbr\\u003edensity=%{y}\\u003cextra\\u003e\\u003c\\u002fextra\\u003e\",\"legendgroup\":\"Others\",\"marker\":{\"color\":\"#ab63fa\",\"opacity\":0.5,\"pattern\":{\"shape\":\"\"}},\"name\":\"Others\",\"orientation\":\"v\",\"showlegend\":true,\"x\":[\"Adult\",\"Young Adult\"],\"xaxis\":\"x5\",\"yaxis\":\"y5\",\"type\":\"histogram\"},{\"bingroup\":\"x\",\"histnorm\":\"density\",\"hovertemplate\":\"Gender=Prefer not to say\\u003cbr\\u003eAdd_to_Cart_Browsing=Maybe\\u003cbr\\u003eTime_Status=Morning\\u003cbr\\u003eAge_Category=%{x}\\u003cbr\\u003edensity=%{y}\\u003cextra\\u003e\\u003c\\u002fextra\\u003e\",\"legendgroup\":\"Prefer not to say\",\"marker\":{\"color\":\"#EF553B\",\"opacity\":0.5,\"pattern\":{\"shape\":\"\"}},\"name\":\"Prefer not to say\",\"orientation\":\"v\",\"showlegend\":false,\"x\":[\"Middle-Aged Adult\"],\"xaxis\":\"x\",\"yaxis\":\"y\",\"type\":\"histogram\"},{\"bingroup\":\"x\",\"histnorm\":\"density\",\"hovertemplate\":\"Gender=Male\\u003cbr\\u003eAdd_to_Cart_Browsing=Maybe\\u003cbr\\u003eTime_Status=Morning\\u003cbr\\u003eAge_Category=%{x}\\u003cbr\\u003edensity=%{y}\\u003cextra\\u003e\\u003c\\u002fextra\\u003e\",\"legendgroup\":\"Male\",\"marker\":{\"color\":\"#00cc96\",\"opacity\":0.5,\"pattern\":{\"shape\":\"\"}},\"name\":\"Male\",\"orientation\":\"v\",\"showlegend\":false,\"x\":[\"Young Adult\",\"Adult\",\"Adult\"],\"xaxis\":\"x\",\"yaxis\":\"y\",\"type\":\"histogram\"},{\"bingroup\":\"x\",\"histnorm\":\"density\",\"hovertemplate\":\"Gender=Female\\u003cbr\\u003eAdd_to_Cart_Browsing=Yes\\u003cbr\\u003eTime_Status=Afternoon\\u003cbr\\u003eAge_Category=%{x}\\u003cbr\\u003edensity=%{y}\\u003cextra\\u003e\\u003c\\u002fextra\\u003e\",\"legendgroup\":\"Female\",\"marker\":{\"color\":\"#636efa\",\"opacity\":0.5,\"pattern\":{\"shape\":\"\"}},\"name\":\"Female\",\"orientation\":\"v\",\"showlegend\":false,\"x\":[\"Young Adult\",\"Young Adult\",\"Young Adult\",\"Young Adult\",\"Young Adult\",\"Young Adult\",\"Young Adult\",\"Young Adult\",\"Adult\",\"Young Adult\",\"Young Adult\",\"Young Adult\",\"Young Adult\",\"Adult\",\"Adult\",\"Middle-Aged Adult\",\"Adult\",\"Adult\",\"Adult\",\"Middle-Aged Adult\",\"Middle-Aged Adult\",\"Young Adult\",\"Young Adult\",\"Young Adult\",\"Young Adult\",\"Young Adult\",\"Young Adult\",\"Adult\"],\"xaxis\":\"x10\",\"yaxis\":\"y10\",\"type\":\"histogram\"},{\"bingroup\":\"x\",\"histnorm\":\"density\",\"hovertemplate\":\"Gender=Prefer not to say\\u003cbr\\u003eAdd_to_Cart_Browsing=Yes\\u003cbr\\u003eTime_Status=Afternoon\\u003cbr\\u003eAge_Category=%{x}\\u003cbr\\u003edensity=%{y}\\u003cextra\\u003e\\u003c\\u002fextra\\u003e\",\"legendgroup\":\"Prefer not to say\",\"marker\":{\"color\":\"#EF553B\",\"opacity\":0.5,\"pattern\":{\"shape\":\"\"}},\"name\":\"Prefer not to say\",\"orientation\":\"v\",\"showlegend\":false,\"x\":[\"Young Adult\"],\"xaxis\":\"x10\",\"yaxis\":\"y10\",\"type\":\"histogram\"},{\"bingroup\":\"x\",\"histnorm\":\"density\",\"hovertemplate\":\"Gender=Male\\u003cbr\\u003eAdd_to_Cart_Browsing=Yes\\u003cbr\\u003eTime_Status=Afternoon\\u003cbr\\u003eAge_Category=%{x}\\u003cbr\\u003edensity=%{y}\\u003cextra\\u003e\\u003c\\u002fextra\\u003e\",\"legendgroup\":\"Male\",\"marker\":{\"color\":\"#00cc96\",\"opacity\":0.5,\"pattern\":{\"shape\":\"\"}},\"name\":\"Male\",\"orientation\":\"v\",\"showlegend\":false,\"x\":[\"Young Adult\",\"Young Adult\",\"Young Adult\",\"Young Adult\",\"Adult\",\"Adult\",\"Middle-Aged Adult\",\"Adult\",\"Middle-Aged Adult\",\"Adult\",\"Adult\",\"Adult\"],\"xaxis\":\"x10\",\"yaxis\":\"y10\",\"type\":\"histogram\"},{\"bingroup\":\"x\",\"histnorm\":\"density\",\"hovertemplate\":\"Gender=Others\\u003cbr\\u003eAdd_to_Cart_Browsing=Yes\\u003cbr\\u003eTime_Status=Afternoon\\u003cbr\\u003eAge_Category=%{x}\\u003cbr\\u003edensity=%{y}\\u003cextra\\u003e\\u003c\\u002fextra\\u003e\",\"legendgroup\":\"Others\",\"marker\":{\"color\":\"#ab63fa\",\"opacity\":0.5,\"pattern\":{\"shape\":\"\"}},\"name\":\"Others\",\"orientation\":\"v\",\"showlegend\":false,\"x\":[\"Adult\"],\"xaxis\":\"x10\",\"yaxis\":\"y10\",\"type\":\"histogram\"},{\"bingroup\":\"x\",\"histnorm\":\"density\",\"hovertemplate\":\"Gender=Female\\u003cbr\\u003eAdd_to_Cart_Browsing=No\\u003cbr\\u003eTime_Status=Afternoon\\u003cbr\\u003eAge_Category=%{x}\\u003cbr\\u003edensity=%{y}\\u003cextra\\u003e\\u003c\\u002fextra\\u003e\",\"legendgroup\":\"Female\",\"marker\":{\"color\":\"#636efa\",\"opacity\":0.5,\"pattern\":{\"shape\":\"\"}},\"name\":\"Female\",\"orientation\":\"v\",\"showlegend\":false,\"x\":[\"Young Adult\",\"Adult\",\"Young Adult\",\"Young Adult\",\"Adult\",\"Adult\",\"Senior Citizen\",\"Young Adult\",\"Adult\",\"Adult\"],\"xaxis\":\"x6\",\"yaxis\":\"y6\",\"type\":\"histogram\"},{\"bingroup\":\"x\",\"histnorm\":\"density\",\"hovertemplate\":\"Gender=Prefer not to say\\u003cbr\\u003eAdd_to_Cart_Browsing=No\\u003cbr\\u003eTime_Status=Afternoon\\u003cbr\\u003eAge_Category=%{x}\\u003cbr\\u003edensity=%{y}\\u003cextra\\u003e\\u003c\\u002fextra\\u003e\",\"legendgroup\":\"Prefer not to say\",\"marker\":{\"color\":\"#EF553B\",\"opacity\":0.5,\"pattern\":{\"shape\":\"\"}},\"name\":\"Prefer not to say\",\"orientation\":\"v\",\"showlegend\":false,\"x\":[\"Adult\",\"Minor\"],\"xaxis\":\"x6\",\"yaxis\":\"y6\",\"type\":\"histogram\"},{\"bingroup\":\"x\",\"histnorm\":\"density\",\"hovertemplate\":\"Gender=Male\\u003cbr\\u003eAdd_to_Cart_Browsing=No\\u003cbr\\u003eTime_Status=Afternoon\\u003cbr\\u003eAge_Category=%{x}\\u003cbr\\u003edensity=%{y}\\u003cextra\\u003e\\u003c\\u002fextra\\u003e\",\"legendgroup\":\"Male\",\"marker\":{\"color\":\"#00cc96\",\"opacity\":0.5,\"pattern\":{\"shape\":\"\"}},\"name\":\"Male\",\"orientation\":\"v\",\"showlegend\":false,\"x\":[\"Young Adult\",\"Adult\",\"Adult\"],\"xaxis\":\"x6\",\"yaxis\":\"y6\",\"type\":\"histogram\"},{\"bingroup\":\"x\",\"histnorm\":\"density\",\"hovertemplate\":\"Gender=Female\\u003cbr\\u003eAdd_to_Cart_Browsing=Maybe\\u003cbr\\u003eTime_Status=Afternoon\\u003cbr\\u003eAge_Category=%{x}\\u003cbr\\u003edensity=%{y}\\u003cextra\\u003e\\u003c\\u002fextra\\u003e\",\"legendgroup\":\"Female\",\"marker\":{\"color\":\"#636efa\",\"opacity\":0.5,\"pattern\":{\"shape\":\"\"}},\"name\":\"Female\",\"orientation\":\"v\",\"showlegend\":false,\"x\":[\"Young Adult\",\"Young Adult\",\"Adult\",\"Young Adult\",\"Adult\",\"Adult\",\"Young Adult\",\"Young Adult\",\"Adult\",\"Young Adult\",\"Young Adult\",\"Young Adult\",\"Adult\",\"Middle-Aged Adult\",\"Adult\",\"Adult\",\"Young Adult\",\"Adult\",\"Young Adult\",\"Adult\",\"Young Adult\",\"Young Adult\"],\"xaxis\":\"x2\",\"yaxis\":\"y2\",\"type\":\"histogram\"},{\"bingroup\":\"x\",\"histnorm\":\"density\",\"hovertemplate\":\"Gender=Prefer not to say\\u003cbr\\u003eAdd_to_Cart_Browsing=Maybe\\u003cbr\\u003eTime_Status=Afternoon\\u003cbr\\u003eAge_Category=%{x}\\u003cbr\\u003edensity=%{y}\\u003cextra\\u003e\\u003c\\u002fextra\\u003e\",\"legendgroup\":\"Prefer not to say\",\"marker\":{\"color\":\"#EF553B\",\"opacity\":0.5,\"pattern\":{\"shape\":\"\"}},\"name\":\"Prefer not to say\",\"orientation\":\"v\",\"showlegend\":false,\"x\":[\"Young Adult\",\"Young Adult\",\"Adult\",\"Adult\"],\"xaxis\":\"x2\",\"yaxis\":\"y2\",\"type\":\"histogram\"},{\"bingroup\":\"x\",\"histnorm\":\"density\",\"hovertemplate\":\"Gender=Male\\u003cbr\\u003eAdd_to_Cart_Browsing=Maybe\\u003cbr\\u003eTime_Status=Afternoon\\u003cbr\\u003eAge_Category=%{x}\\u003cbr\\u003edensity=%{y}\\u003cextra\\u003e\\u003c\\u002fextra\\u003e\",\"legendgroup\":\"Male\",\"marker\":{\"color\":\"#00cc96\",\"opacity\":0.5,\"pattern\":{\"shape\":\"\"}},\"name\":\"Male\",\"orientation\":\"v\",\"showlegend\":false,\"x\":[\"Young Adult\",\"Adult\",\"Adult\",\"Middle-Aged Adult\",\"Adult\",\"Adult\"],\"xaxis\":\"x2\",\"yaxis\":\"y2\",\"type\":\"histogram\"},{\"bingroup\":\"x\",\"histnorm\":\"density\",\"hovertemplate\":\"Gender=Others\\u003cbr\\u003eAdd_to_Cart_Browsing=Maybe\\u003cbr\\u003eTime_Status=Afternoon\\u003cbr\\u003eAge_Category=%{x}\\u003cbr\\u003edensity=%{y}\\u003cextra\\u003e\\u003c\\u002fextra\\u003e\",\"legendgroup\":\"Others\",\"marker\":{\"color\":\"#ab63fa\",\"opacity\":0.5,\"pattern\":{\"shape\":\"\"}},\"name\":\"Others\",\"orientation\":\"v\",\"showlegend\":false,\"x\":[\"Adult\"],\"xaxis\":\"x2\",\"yaxis\":\"y2\",\"type\":\"histogram\"},{\"bingroup\":\"x\",\"histnorm\":\"density\",\"hovertemplate\":\"Gender=Female\\u003cbr\\u003eAdd_to_Cart_Browsing=Yes\\u003cbr\\u003eTime_Status=Evening\\u003cbr\\u003eAge_Category=%{x}\\u003cbr\\u003edensity=%{y}\\u003cextra\\u003e\\u003c\\u002fextra\\u003e\",\"legendgroup\":\"Female\",\"marker\":{\"color\":\"#636efa\",\"opacity\":0.5,\"pattern\":{\"shape\":\"\"}},\"name\":\"Female\",\"orientation\":\"v\",\"showlegend\":false,\"x\":[\"Young Adult\",\"Young Adult\",\"Young Adult\",\"Young Adult\",\"Young Adult\",\"Young Adult\",\"Young Adult\",\"Young Adult\",\"Young Adult\",\"Adult\",\"Young Adult\",\"Young Adult\",\"Young Adult\",\"Young Adult\",\"Middle-Aged Adult\",\"Adult\",\"Adult\",\"Middle-Aged Adult\",\"Young Adult\",\"Middle-Aged Adult\",\"Young Adult\",\"Young Adult\",\"Adult\",\"Middle-Aged Adult\",\"Young Adult\",\"Adult\",\"Young Adult\",\"Middle-Aged Adult\"],\"xaxis\":\"x11\",\"yaxis\":\"y11\",\"type\":\"histogram\"},{\"bingroup\":\"x\",\"histnorm\":\"density\",\"hovertemplate\":\"Gender=Male\\u003cbr\\u003eAdd_to_Cart_Browsing=Yes\\u003cbr\\u003eTime_Status=Evening\\u003cbr\\u003eAge_Category=%{x}\\u003cbr\\u003edensity=%{y}\\u003cextra\\u003e\\u003c\\u002fextra\\u003e\",\"legendgroup\":\"Male\",\"marker\":{\"color\":\"#00cc96\",\"opacity\":0.5,\"pattern\":{\"shape\":\"\"}},\"name\":\"Male\",\"orientation\":\"v\",\"showlegend\":false,\"x\":[\"Adult\",\"Young Adult\",\"Young Adult\",\"Adult\",\"Adult\",\"Adult\",\"Middle-Aged Adult\",\"Adult\",\"Adult\",\"Adult\",\"Young Adult\"],\"xaxis\":\"x11\",\"yaxis\":\"y11\",\"type\":\"histogram\"},{\"bingroup\":\"x\",\"histnorm\":\"density\",\"hovertemplate\":\"Gender=Male\\u003cbr\\u003eAdd_to_Cart_Browsing=No\\u003cbr\\u003eTime_Status=Evening\\u003cbr\\u003eAge_Category=%{x}\\u003cbr\\u003edensity=%{y}\\u003cextra\\u003e\\u003c\\u002fextra\\u003e\",\"legendgroup\":\"Male\",\"marker\":{\"color\":\"#00cc96\",\"opacity\":0.5,\"pattern\":{\"shape\":\"\"}},\"name\":\"Male\",\"orientation\":\"v\",\"showlegend\":false,\"x\":[\"Young Adult\"],\"xaxis\":\"x7\",\"yaxis\":\"y7\",\"type\":\"histogram\"},{\"bingroup\":\"x\",\"histnorm\":\"density\",\"hovertemplate\":\"Gender=Female\\u003cbr\\u003eAdd_to_Cart_Browsing=Maybe\\u003cbr\\u003eTime_Status=Evening\\u003cbr\\u003eAge_Category=%{x}\\u003cbr\\u003edensity=%{y}\\u003cextra\\u003e\\u003c\\u002fextra\\u003e\",\"legendgroup\":\"Female\",\"marker\":{\"color\":\"#636efa\",\"opacity\":0.5,\"pattern\":{\"shape\":\"\"}},\"name\":\"Female\",\"orientation\":\"v\",\"showlegend\":false,\"x\":[\"Young Adult\",\"Young Adult\",\"Young Adult\",\"Adult\",\"Young Adult\",\"Young Adult\",\"Young Adult\",\"Middle-Aged Adult\",\"Middle-Aged Adult\",\"Adult\",\"Middle-Aged Adult\",\"Senior Citizen\",\"Young Adult\",\"Minor\",\"Adult\",\"Middle-Aged Adult\",\"Middle-Aged Adult\",\"Middle-Aged Adult\",\"Young Adult\",\"Young Adult\",\"Middle-Aged Adult\",\"Young Adult\",\"Young Adult\",\"Young Adult\",\"Young Adult\",\"Adult\",\"Middle-Aged Adult\",\"Middle-Aged Adult\",\"Middle-Aged Adult\",\"Young Adult\"],\"xaxis\":\"x3\",\"yaxis\":\"y3\",\"type\":\"histogram\"},{\"bingroup\":\"x\",\"histnorm\":\"density\",\"hovertemplate\":\"Gender=Prefer not to say\\u003cbr\\u003eAdd_to_Cart_Browsing=Maybe\\u003cbr\\u003eTime_Status=Evening\\u003cbr\\u003eAge_Category=%{x}\\u003cbr\\u003edensity=%{y}\\u003cextra\\u003e\\u003c\\u002fextra\\u003e\",\"legendgroup\":\"Prefer not to say\",\"marker\":{\"color\":\"#EF553B\",\"opacity\":0.5,\"pattern\":{\"shape\":\"\"}},\"name\":\"Prefer not to say\",\"orientation\":\"v\",\"showlegend\":false,\"x\":[\"Young Adult\",\"Adult\",\"Middle-Aged Adult\",\"Middle-Aged Adult\",\"Middle-Aged Adult\",\"Middle-Aged Adult\",\"Young Adult\",\"Young Adult\",\"Young Adult\",\"Middle-Aged Adult\",\"Middle-Aged Adult\",\"Middle-Aged Adult\",\"Middle-Aged Adult\"],\"xaxis\":\"x3\",\"yaxis\":\"y3\",\"type\":\"histogram\"},{\"bingroup\":\"x\",\"histnorm\":\"density\",\"hovertemplate\":\"Gender=Male\\u003cbr\\u003eAdd_to_Cart_Browsing=Maybe\\u003cbr\\u003eTime_Status=Evening\\u003cbr\\u003eAge_Category=%{x}\\u003cbr\\u003edensity=%{y}\\u003cextra\\u003e\\u003c\\u002fextra\\u003e\",\"legendgroup\":\"Male\",\"marker\":{\"color\":\"#00cc96\",\"opacity\":0.5,\"pattern\":{\"shape\":\"\"}},\"name\":\"Male\",\"orientation\":\"v\",\"showlegend\":false,\"x\":[\"Young Adult\",\"Young Adult\",\"Young Adult\",\"Adult\",\"Adult\",\"Adult\",\"Young Adult\",\"Middle-Aged Adult\",\"Adult\"],\"xaxis\":\"x3\",\"yaxis\":\"y3\",\"type\":\"histogram\"},{\"bingroup\":\"x\",\"histnorm\":\"density\",\"hovertemplate\":\"Gender=Others\\u003cbr\\u003eAdd_to_Cart_Browsing=Maybe\\u003cbr\\u003eTime_Status=Evening\\u003cbr\\u003eAge_Category=%{x}\\u003cbr\\u003edensity=%{y}\\u003cextra\\u003e\\u003c\\u002fextra\\u003e\",\"legendgroup\":\"Others\",\"marker\":{\"color\":\"#ab63fa\",\"opacity\":0.5,\"pattern\":{\"shape\":\"\"}},\"name\":\"Others\",\"orientation\":\"v\",\"showlegend\":false,\"x\":[\"Adult\"],\"xaxis\":\"x3\",\"yaxis\":\"y3\",\"type\":\"histogram\"},{\"bingroup\":\"x\",\"histnorm\":\"density\",\"hovertemplate\":\"Gender=Female\\u003cbr\\u003eAdd_to_Cart_Browsing=Yes\\u003cbr\\u003eTime_Status=Night\\u003cbr\\u003eAge_Category=%{x}\\u003cbr\\u003edensity=%{y}\\u003cextra\\u003e\\u003c\\u002fextra\\u003e\",\"legendgroup\":\"Female\",\"marker\":{\"color\":\"#636efa\",\"opacity\":0.5,\"pattern\":{\"shape\":\"\"}},\"name\":\"Female\",\"orientation\":\"v\",\"showlegend\":false,\"x\":[\"Young Adult\",\"Young Adult\",\"Young Adult\",\"Young Adult\",\"Young Adult\",\"Young Adult\",\"Young Adult\",\"Young Adult\",\"Young Adult\",\"Young Adult\",\"Young Adult\",\"Young Adult\",\"Minor\",\"Young Adult\",\"Young Adult\",\"Young Adult\",\"Young Adult\",\"Young Adult\",\"Young Adult\",\"Young Adult\",\"Young Adult\",\"Young Adult\",\"Adult\",\"Young Adult\",\"Young Adult\",\"Young Adult\",\"Young Adult\",\"Adult\",\"Young Adult\",\"Young Adult\",\"Adult\",\"Young Adult\",\"Adult\",\"Middle-Aged Adult\",\"Adult\",\"Young Adult\",\"Adult\",\"Adult\",\"Adult\",\"Young Adult\",\"Young Adult\",\"Young Adult\",\"Young Adult\",\"Adult\",\"Young Adult\",\"Young Adult\",\"Young Adult\",\"Adult\",\"Adult\",\"Young Adult\",\"Middle-Aged Adult\",\"Minor\",\"Adult\",\"Young Adult\",\"Adult\",\"Adult\",\"Young Adult\",\"Young Adult\",\"Adult\",\"Adult\",\"Young Adult\",\"Young Adult\",\"Adult\",\"Adult\",\"Adult\",\"Adult\",\"Adult\",\"Young Adult\",\"Young Adult\"],\"xaxis\":\"x12\",\"yaxis\":\"y12\",\"type\":\"histogram\"},{\"bingroup\":\"x\",\"histnorm\":\"density\",\"hovertemplate\":\"Gender=Prefer not to say\\u003cbr\\u003eAdd_to_Cart_Browsing=Yes\\u003cbr\\u003eTime_Status=Night\\u003cbr\\u003eAge_Category=%{x}\\u003cbr\\u003edensity=%{y}\\u003cextra\\u003e\\u003c\\u002fextra\\u003e\",\"legendgroup\":\"Prefer not to say\",\"marker\":{\"color\":\"#EF553B\",\"opacity\":0.5,\"pattern\":{\"shape\":\"\"}},\"name\":\"Prefer not to say\",\"orientation\":\"v\",\"showlegend\":false,\"x\":[\"Young Adult\",\"Adult\",\"Adult\",\"Young Adult\",\"Minor\",\"Adult\",\"Adult\",\"Adult\",\"Young Adult\",\"Young Adult\",\"Middle-Aged Adult\",\"Adult\",\"Middle-Aged Adult\",\"Young Adult\"],\"xaxis\":\"x12\",\"yaxis\":\"y12\",\"type\":\"histogram\"},{\"bingroup\":\"x\",\"histnorm\":\"density\",\"hovertemplate\":\"Gender=Male\\u003cbr\\u003eAdd_to_Cart_Browsing=Yes\\u003cbr\\u003eTime_Status=Night\\u003cbr\\u003eAge_Category=%{x}\\u003cbr\\u003edensity=%{y}\\u003cextra\\u003e\\u003c\\u002fextra\\u003e\",\"legendgroup\":\"Male\",\"marker\":{\"color\":\"#00cc96\",\"opacity\":0.5,\"pattern\":{\"shape\":\"\"}},\"name\":\"Male\",\"orientation\":\"v\",\"showlegend\":false,\"x\":[\"Minor\",\"Young Adult\",\"Young Adult\",\"Adult\",\"Adult\",\"Middle-Aged Adult\",\"Adult\",\"Adult\",\"Adult\",\"Young Adult\",\"Middle-Aged Adult\",\"Adult\",\"Senior Citizen\",\"Young Adult\",\"Adult\",\"Young Adult\",\"Middle-Aged Adult\",\"Young Adult\",\"Young Adult\",\"Adult\",\"Minor\",\"Adult\",\"Middle-Aged Adult\",\"Young Adult\",\"Adult\",\"Adult\",\"Adult\",\"Adult\",\"Middle-Aged Adult\",\"Adult\",\"Adult\",\"Middle-Aged Adult\",\"Adult\",\"Young Adult\",\"Young Adult\"],\"xaxis\":\"x12\",\"yaxis\":\"y12\",\"type\":\"histogram\"},{\"bingroup\":\"x\",\"histnorm\":\"density\",\"hovertemplate\":\"Gender=Others\\u003cbr\\u003eAdd_to_Cart_Browsing=Yes\\u003cbr\\u003eTime_Status=Night\\u003cbr\\u003eAge_Category=%{x}\\u003cbr\\u003edensity=%{y}\\u003cextra\\u003e\\u003c\\u002fextra\\u003e\",\"legendgroup\":\"Others\",\"marker\":{\"color\":\"#ab63fa\",\"opacity\":0.5,\"pattern\":{\"shape\":\"\"}},\"name\":\"Others\",\"orientation\":\"v\",\"showlegend\":false,\"x\":[\"Middle-Aged Adult\",\"Middle-Aged Adult\",\"Middle-Aged Adult\"],\"xaxis\":\"x12\",\"yaxis\":\"y12\",\"type\":\"histogram\"},{\"bingroup\":\"x\",\"histnorm\":\"density\",\"hovertemplate\":\"Gender=Female\\u003cbr\\u003eAdd_to_Cart_Browsing=No\\u003cbr\\u003eTime_Status=Night\\u003cbr\\u003eAge_Category=%{x}\\u003cbr\\u003edensity=%{y}\\u003cextra\\u003e\\u003c\\u002fextra\\u003e\",\"legendgroup\":\"Female\",\"marker\":{\"color\":\"#636efa\",\"opacity\":0.5,\"pattern\":{\"shape\":\"\"}},\"name\":\"Female\",\"orientation\":\"v\",\"showlegend\":false,\"x\":[\"Young Adult\",\"Middle-Aged Adult\",\"Young Adult\",\"Adult\",\"Adult\",\"Young Adult\",\"Middle-Aged Adult\",\"Adult\",\"Adult\",\"Middle-Aged Adult\",\"Middle-Aged Adult\",\"Adult\",\"Middle-Aged Adult\",\"Young Adult\",\"Middle-Aged Adult\",\"Young Adult\",\"Young Adult\",\"Young Adult\",\"Adult\",\"Young Adult\",\"Young Adult\",\"Adult\",\"Adult\",\"Young Adult\",\"Adult\",\"Young Adult\",\"Adult\",\"Young Adult\",\"Adult\",\"Adult\",\"Middle-Aged Adult\",\"Adult\",\"Middle-Aged Adult\",\"Adult\",\"Adult\",\"Adult\",\"Adult\",\"Minor\",\"Adult\",\"Adult\",\"Adult\",\"Young Adult\",\"Young Adult\",\"Middle-Aged Adult\",\"Adult\",\"Adult\",\"Young Adult\",\"Adult\",\"Middle-Aged Adult\",\"Middle-Aged Adult\",\"Middle-Aged Adult\",\"Young Adult\",\"Adult\",\"Middle-Aged Adult\",\"Adult\",\"Middle-Aged Adult\",\"Middle-Aged Adult\",\"Adult\"],\"xaxis\":\"x8\",\"yaxis\":\"y8\",\"type\":\"histogram\"},{\"bingroup\":\"x\",\"histnorm\":\"density\",\"hovertemplate\":\"Gender=Prefer not to say\\u003cbr\\u003eAdd_to_Cart_Browsing=No\\u003cbr\\u003eTime_Status=Night\\u003cbr\\u003eAge_Category=%{x}\\u003cbr\\u003edensity=%{y}\\u003cextra\\u003e\\u003c\\u002fextra\\u003e\",\"legendgroup\":\"Prefer not to say\",\"marker\":{\"color\":\"#EF553B\",\"opacity\":0.5,\"pattern\":{\"shape\":\"\"}},\"name\":\"Prefer not to say\",\"orientation\":\"v\",\"showlegend\":false,\"x\":[\"Adult\",\"Adult\",\"Middle-Aged Adult\",\"Adult\",\"Adult\",\"Young Adult\",\"Young Adult\",\"Adult\",\"Young Adult\",\"Young Adult\",\"Young Adult\",\"Minor\",\"Adult\",\"Adult\",\"Adult\",\"Adult\",\"Young Adult\",\"Young Adult\",\"Adult\",\"Adult\",\"Senior Citizen\",\"Adult\",\"Adult\",\"Middle-Aged Adult\"],\"xaxis\":\"x8\",\"yaxis\":\"y8\",\"type\":\"histogram\"},{\"bingroup\":\"x\",\"histnorm\":\"density\",\"hovertemplate\":\"Gender=Male\\u003cbr\\u003eAdd_to_Cart_Browsing=No\\u003cbr\\u003eTime_Status=Night\\u003cbr\\u003eAge_Category=%{x}\\u003cbr\\u003edensity=%{y}\\u003cextra\\u003e\\u003c\\u002fextra\\u003e\",\"legendgroup\":\"Male\",\"marker\":{\"color\":\"#00cc96\",\"opacity\":0.5,\"pattern\":{\"shape\":\"\"}},\"name\":\"Male\",\"orientation\":\"v\",\"showlegend\":false,\"x\":[\"Senior Citizen\",\"Adult\",\"Middle-Aged Adult\",\"Young Adult\",\"Young Adult\",\"Adult\",\"Adult\",\"Adult\",\"Middle-Aged Adult\",\"Young Adult\",\"Middle-Aged Adult\",\"Adult\",\"Adult\",\"Senior Citizen\",\"Adult\",\"Young Adult\",\"Adult\",\"Middle-Aged Adult\",\"Young Adult\",\"Senior Citizen\",\"Middle-Aged Adult\",\"Adult\",\"Middle-Aged Adult\",\"Young Adult\",\"Young Adult\",\"Middle-Aged Adult\",\"Middle-Aged Adult\",\"Middle-Aged Adult\",\"Adult\"],\"xaxis\":\"x8\",\"yaxis\":\"y8\",\"type\":\"histogram\"},{\"bingroup\":\"x\",\"histnorm\":\"density\",\"hovertemplate\":\"Gender=Others\\u003cbr\\u003eAdd_to_Cart_Browsing=No\\u003cbr\\u003eTime_Status=Night\\u003cbr\\u003eAge_Category=%{x}\\u003cbr\\u003edensity=%{y}\\u003cextra\\u003e\\u003c\\u002fextra\\u003e\",\"legendgroup\":\"Others\",\"marker\":{\"color\":\"#ab63fa\",\"opacity\":0.5,\"pattern\":{\"shape\":\"\"}},\"name\":\"Others\",\"orientation\":\"v\",\"showlegend\":false,\"x\":[\"Adult\",\"Adult\",\"Young Adult\"],\"xaxis\":\"x8\",\"yaxis\":\"y8\",\"type\":\"histogram\"},{\"bingroup\":\"x\",\"histnorm\":\"density\",\"hovertemplate\":\"Gender=Female\\u003cbr\\u003eAdd_to_Cart_Browsing=Maybe\\u003cbr\\u003eTime_Status=Night\\u003cbr\\u003eAge_Category=%{x}\\u003cbr\\u003edensity=%{y}\\u003cextra\\u003e\\u003c\\u002fextra\\u003e\",\"legendgroup\":\"Female\",\"marker\":{\"color\":\"#636efa\",\"opacity\":0.5,\"pattern\":{\"shape\":\"\"}},\"name\":\"Female\",\"orientation\":\"v\",\"showlegend\":false,\"x\":[\"Young Adult\",\"Young Adult\",\"Young Adult\",\"Young Adult\",\"Young Adult\",\"Young Adult\",\"Young Adult\",\"Young Adult\",\"Young Adult\",\"Young Adult\",\"Senior Citizen\",\"Adult\",\"Adult\",\"Senior Citizen\",\"Senior Citizen\",\"Adult\",\"Adult\",\"Young Adult\",\"Young Adult\",\"Young Adult\",\"Young Adult\",\"Young Adult\",\"Middle-Aged Adult\",\"Middle-Aged Adult\",\"Middle-Aged Adult\",\"Young Adult\",\"Middle-Aged Adult\",\"Adult\",\"Young Adult\",\"Young Adult\",\"Young Adult\",\"Adult\",\"Adult\",\"Young Adult\",\"Young Adult\",\"Young Adult\",\"Young Adult\",\"Young Adult\",\"Adult\",\"Adult\",\"Middle-Aged Adult\",\"Adult\",\"Senior Citizen\",\"Middle-Aged Adult\",\"Middle-Aged Adult\",\"Adult\",\"Middle-Aged Adult\",\"Middle-Aged Adult\",\"Adult\",\"Middle-Aged Adult\",\"Adult\",\"Adult\",\"Young Adult\",\"Young Adult\",\"Adult\",\"Young Adult\",\"Adult\",\"Adult\",\"Adult\",\"Adult\",\"Young Adult\",\"Young Adult\",\"Middle-Aged Adult\",\"Middle-Aged Adult\",\"Adult\",\"Adult\",\"Adult\",\"Adult\",\"Adult\",\"Adult\",\"Adult\",\"Adult\",\"Adult\",\"Adult\",\"Middle-Aged Adult\",\"Minor\",\"Middle-Aged Adult\",\"Middle-Aged Adult\",\"Young Adult\",\"Young Adult\",\"Middle-Aged Adult\",\"Young Adult\",\"Young Adult\",\"Young Adult\",\"Young Adult\",\"Young Adult\",\"Young Adult\",\"Young Adult\",\"Young Adult\",\"Young Adult\",\"Young Adult\",\"Young Adult\",\"Young Adult\",\"Young Adult\"],\"xaxis\":\"x4\",\"yaxis\":\"y4\",\"type\":\"histogram\"},{\"bingroup\":\"x\",\"histnorm\":\"density\",\"hovertemplate\":\"Gender=Prefer not to say\\u003cbr\\u003eAdd_to_Cart_Browsing=Maybe\\u003cbr\\u003eTime_Status=Night\\u003cbr\\u003eAge_Category=%{x}\\u003cbr\\u003edensity=%{y}\\u003cextra\\u003e\\u003c\\u002fextra\\u003e\",\"legendgroup\":\"Prefer not to say\",\"marker\":{\"color\":\"#EF553B\",\"opacity\":0.5,\"pattern\":{\"shape\":\"\"}},\"name\":\"Prefer not to say\",\"orientation\":\"v\",\"showlegend\":false,\"x\":[\"Middle-Aged Adult\",\"Young Adult\",\"Adult\",\"Young Adult\",\"Middle-Aged Adult\",\"Adult\",\"Adult\",\"Young Adult\",\"Adult\",\"Young Adult\",\"Young Adult\",\"Adult\",\"Young Adult\",\"Adult\",\"Adult\",\"Young Adult\",\"Middle-Aged Adult\",\"Young Adult\",\"Adult\",\"Adult\",\"Middle-Aged Adult\",\"Young Adult\",\"Young Adult\",\"Young Adult\",\"Young Adult\",\"Young Adult\",\"Middle-Aged Adult\",\"Middle-Aged Adult\",\"Young Adult\"],\"xaxis\":\"x4\",\"yaxis\":\"y4\",\"type\":\"histogram\"},{\"bingroup\":\"x\",\"histnorm\":\"density\",\"hovertemplate\":\"Gender=Male\\u003cbr\\u003eAdd_to_Cart_Browsing=Maybe\\u003cbr\\u003eTime_Status=Night\\u003cbr\\u003eAge_Category=%{x}\\u003cbr\\u003edensity=%{y}\\u003cextra\\u003e\\u003c\\u002fextra\\u003e\",\"legendgroup\":\"Male\",\"marker\":{\"color\":\"#00cc96\",\"opacity\":0.5,\"pattern\":{\"shape\":\"\"}},\"name\":\"Male\",\"orientation\":\"v\",\"showlegend\":false,\"x\":[\"Adult\",\"Young Adult\",\"Adult\",\"Minor\",\"Adult\",\"Young Adult\",\"Young Adult\",\"Middle-Aged Adult\",\"Adult\",\"Middle-Aged Adult\",\"Adult\",\"Adult\",\"Middle-Aged Adult\",\"Adult\",\"Middle-Aged Adult\",\"Middle-Aged Adult\",\"Adult\",\"Middle-Aged Adult\",\"Young Adult\",\"Adult\",\"Adult\",\"Middle-Aged Adult\",\"Adult\",\"Young Adult\",\"Middle-Aged Adult\",\"Young Adult\",\"Young Adult\"],\"xaxis\":\"x4\",\"yaxis\":\"y4\",\"type\":\"histogram\"},{\"bingroup\":\"x\",\"histnorm\":\"density\",\"hovertemplate\":\"Gender=Others\\u003cbr\\u003eAdd_to_Cart_Browsing=Maybe\\u003cbr\\u003eTime_Status=Night\\u003cbr\\u003eAge_Category=%{x}\\u003cbr\\u003edensity=%{y}\\u003cextra\\u003e\\u003c\\u002fextra\\u003e\",\"legendgroup\":\"Others\",\"marker\":{\"color\":\"#ab63fa\",\"opacity\":0.5,\"pattern\":{\"shape\":\"\"}},\"name\":\"Others\",\"orientation\":\"v\",\"showlegend\":false,\"x\":[\"Young Adult\",\"Young Adult\",\"Adult\",\"Young Adult\",\"Adult\",\"Adult\",\"Middle-Aged Adult\",\"Adult\"],\"xaxis\":\"x4\",\"yaxis\":\"y4\",\"type\":\"histogram\"}],                        {\"template\":{\"data\":{\"histogram2dcontour\":[{\"type\":\"histogram2dcontour\",\"colorbar\":{\"outlinewidth\":0,\"ticks\":\"\"},\"colorscale\":[[0.0,\"#0d0887\"],[0.1111111111111111,\"#46039f\"],[0.2222222222222222,\"#7201a8\"],[0.3333333333333333,\"#9c179e\"],[0.4444444444444444,\"#bd3786\"],[0.5555555555555556,\"#d8576b\"],[0.6666666666666666,\"#ed7953\"],[0.7777777777777778,\"#fb9f3a\"],[0.8888888888888888,\"#fdca26\"],[1.0,\"#f0f921\"]]}],\"choropleth\":[{\"type\":\"choropleth\",\"colorbar\":{\"outlinewidth\":0,\"ticks\":\"\"}}],\"histogram2d\":[{\"type\":\"histogram2d\",\"colorbar\":{\"outlinewidth\":0,\"ticks\":\"\"},\"colorscale\":[[0.0,\"#0d0887\"],[0.1111111111111111,\"#46039f\"],[0.2222222222222222,\"#7201a8\"],[0.3333333333333333,\"#9c179e\"],[0.4444444444444444,\"#bd3786\"],[0.5555555555555556,\"#d8576b\"],[0.6666666666666666,\"#ed7953\"],[0.7777777777777778,\"#fb9f3a\"],[0.8888888888888888,\"#fdca26\"],[1.0,\"#f0f921\"]]}],\"heatmap\":[{\"type\":\"heatmap\",\"colorbar\":{\"outlinewidth\":0,\"ticks\":\"\"},\"colorscale\":[[0.0,\"#0d0887\"],[0.1111111111111111,\"#46039f\"],[0.2222222222222222,\"#7201a8\"],[0.3333333333333333,\"#9c179e\"],[0.4444444444444444,\"#bd3786\"],[0.5555555555555556,\"#d8576b\"],[0.6666666666666666,\"#ed7953\"],[0.7777777777777778,\"#fb9f3a\"],[0.8888888888888888,\"#fdca26\"],[1.0,\"#f0f921\"]]}],\"contourcarpet\":[{\"type\":\"contourcarpet\",\"colorbar\":{\"outlinewidth\":0,\"ticks\":\"\"}}],\"contour\":[{\"type\":\"contour\",\"colorbar\":{\"outlinewidth\":0,\"ticks\":\"\"},\"colorscale\":[[0.0,\"#0d0887\"],[0.1111111111111111,\"#46039f\"],[0.2222222222222222,\"#7201a8\"],[0.3333333333333333,\"#9c179e\"],[0.4444444444444444,\"#bd3786\"],[0.5555555555555556,\"#d8576b\"],[0.6666666666666666,\"#ed7953\"],[0.7777777777777778,\"#fb9f3a\"],[0.8888888888888888,\"#fdca26\"],[1.0,\"#f0f921\"]]}],\"surface\":[{\"type\":\"surface\",\"colorbar\":{\"outlinewidth\":0,\"ticks\":\"\"},\"colorscale\":[[0.0,\"#0d0887\"],[0.1111111111111111,\"#46039f\"],[0.2222222222222222,\"#7201a8\"],[0.3333333333333333,\"#9c179e\"],[0.4444444444444444,\"#bd3786\"],[0.5555555555555556,\"#d8576b\"],[0.6666666666666666,\"#ed7953\"],[0.7777777777777778,\"#fb9f3a\"],[0.8888888888888888,\"#fdca26\"],[1.0,\"#f0f921\"]]}],\"mesh3d\":[{\"type\":\"mesh3d\",\"colorbar\":{\"outlinewidth\":0,\"ticks\":\"\"}}],\"scatter\":[{\"fillpattern\":{\"fillmode\":\"overlay\",\"size\":10,\"solidity\":0.2},\"type\":\"scatter\"}],\"parcoords\":[{\"type\":\"parcoords\",\"line\":{\"colorbar\":{\"outlinewidth\":0,\"ticks\":\"\"}}}],\"scatterpolargl\":[{\"type\":\"scatterpolargl\",\"marker\":{\"colorbar\":{\"outlinewidth\":0,\"ticks\":\"\"}}}],\"bar\":[{\"error_x\":{\"color\":\"#2a3f5f\"},\"error_y\":{\"color\":\"#2a3f5f\"},\"marker\":{\"line\":{\"color\":\"#E5ECF6\",\"width\":0.5},\"pattern\":{\"fillmode\":\"overlay\",\"size\":10,\"solidity\":0.2}},\"type\":\"bar\"}],\"scattergeo\":[{\"type\":\"scattergeo\",\"marker\":{\"colorbar\":{\"outlinewidth\":0,\"ticks\":\"\"}}}],\"scatterpolar\":[{\"type\":\"scatterpolar\",\"marker\":{\"colorbar\":{\"outlinewidth\":0,\"ticks\":\"\"}}}],\"histogram\":[{\"marker\":{\"pattern\":{\"fillmode\":\"overlay\",\"size\":10,\"solidity\":0.2}},\"type\":\"histogram\"}],\"scattergl\":[{\"type\":\"scattergl\",\"marker\":{\"colorbar\":{\"outlinewidth\":0,\"ticks\":\"\"}}}],\"scatter3d\":[{\"type\":\"scatter3d\",\"line\":{\"colorbar\":{\"outlinewidth\":0,\"ticks\":\"\"}},\"marker\":{\"colorbar\":{\"outlinewidth\":0,\"ticks\":\"\"}}}],\"scattermap\":[{\"type\":\"scattermap\",\"marker\":{\"colorbar\":{\"outlinewidth\":0,\"ticks\":\"\"}}}],\"scattermapbox\":[{\"type\":\"scattermapbox\",\"marker\":{\"colorbar\":{\"outlinewidth\":0,\"ticks\":\"\"}}}],\"scatterternary\":[{\"type\":\"scatterternary\",\"marker\":{\"colorbar\":{\"outlinewidth\":0,\"ticks\":\"\"}}}],\"scattercarpet\":[{\"type\":\"scattercarpet\",\"marker\":{\"colorbar\":{\"outlinewidth\":0,\"ticks\":\"\"}}}],\"carpet\":[{\"aaxis\":{\"endlinecolor\":\"#2a3f5f\",\"gridcolor\":\"white\",\"linecolor\":\"white\",\"minorgridcolor\":\"white\",\"startlinecolor\":\"#2a3f5f\"},\"baxis\":{\"endlinecolor\":\"#2a3f5f\",\"gridcolor\":\"white\",\"linecolor\":\"white\",\"minorgridcolor\":\"white\",\"startlinecolor\":\"#2a3f5f\"},\"type\":\"carpet\"}],\"table\":[{\"cells\":{\"fill\":{\"color\":\"#EBF0F8\"},\"line\":{\"color\":\"white\"}},\"header\":{\"fill\":{\"color\":\"#C8D4E3\"},\"line\":{\"color\":\"white\"}},\"type\":\"table\"}],\"barpolar\":[{\"marker\":{\"line\":{\"color\":\"#E5ECF6\",\"width\":0.5},\"pattern\":{\"fillmode\":\"overlay\",\"size\":10,\"solidity\":0.2}},\"type\":\"barpolar\"}],\"pie\":[{\"automargin\":true,\"type\":\"pie\"}]},\"layout\":{\"autotypenumbers\":\"strict\",\"colorway\":[\"#636efa\",\"#EF553B\",\"#00cc96\",\"#ab63fa\",\"#FFA15A\",\"#19d3f3\",\"#FF6692\",\"#B6E880\",\"#FF97FF\",\"#FECB52\"],\"font\":{\"color\":\"#2a3f5f\"},\"hovermode\":\"closest\",\"hoverlabel\":{\"align\":\"left\"},\"paper_bgcolor\":\"white\",\"plot_bgcolor\":\"#E5ECF6\",\"polar\":{\"bgcolor\":\"#E5ECF6\",\"angularaxis\":{\"gridcolor\":\"white\",\"linecolor\":\"white\",\"ticks\":\"\"},\"radialaxis\":{\"gridcolor\":\"white\",\"linecolor\":\"white\",\"ticks\":\"\"}},\"ternary\":{\"bgcolor\":\"#E5ECF6\",\"aaxis\":{\"gridcolor\":\"white\",\"linecolor\":\"white\",\"ticks\":\"\"},\"baxis\":{\"gridcolor\":\"white\",\"linecolor\":\"white\",\"ticks\":\"\"},\"caxis\":{\"gridcolor\":\"white\",\"linecolor\":\"white\",\"ticks\":\"\"}},\"coloraxis\":{\"colorbar\":{\"outlinewidth\":0,\"ticks\":\"\"}},\"colorscale\":{\"sequential\":[[0.0,\"#0d0887\"],[0.1111111111111111,\"#46039f\"],[0.2222222222222222,\"#7201a8\"],[0.3333333333333333,\"#9c179e\"],[0.4444444444444444,\"#bd3786\"],[0.5555555555555556,\"#d8576b\"],[0.6666666666666666,\"#ed7953\"],[0.7777777777777778,\"#fb9f3a\"],[0.8888888888888888,\"#fdca26\"],[1.0,\"#f0f921\"]],\"sequentialminus\":[[0.0,\"#0d0887\"],[0.1111111111111111,\"#46039f\"],[0.2222222222222222,\"#7201a8\"],[0.3333333333333333,\"#9c179e\"],[0.4444444444444444,\"#bd3786\"],[0.5555555555555556,\"#d8576b\"],[0.6666666666666666,\"#ed7953\"],[0.7777777777777778,\"#fb9f3a\"],[0.8888888888888888,\"#fdca26\"],[1.0,\"#f0f921\"]],\"diverging\":[[0,\"#8e0152\"],[0.1,\"#c51b7d\"],[0.2,\"#de77ae\"],[0.3,\"#f1b6da\"],[0.4,\"#fde0ef\"],[0.5,\"#f7f7f7\"],[0.6,\"#e6f5d0\"],[0.7,\"#b8e186\"],[0.8,\"#7fbc41\"],[0.9,\"#4d9221\"],[1,\"#276419\"]]},\"xaxis\":{\"gridcolor\":\"white\",\"linecolor\":\"white\",\"ticks\":\"\",\"title\":{\"standoff\":15},\"zerolinecolor\":\"white\",\"automargin\":true,\"zerolinewidth\":2},\"yaxis\":{\"gridcolor\":\"white\",\"linecolor\":\"white\",\"ticks\":\"\",\"title\":{\"standoff\":15},\"zerolinecolor\":\"white\",\"automargin\":true,\"zerolinewidth\":2},\"scene\":{\"xaxis\":{\"backgroundcolor\":\"#E5ECF6\",\"gridcolor\":\"white\",\"linecolor\":\"white\",\"showbackground\":true,\"ticks\":\"\",\"zerolinecolor\":\"white\",\"gridwidth\":2},\"yaxis\":{\"backgroundcolor\":\"#E5ECF6\",\"gridcolor\":\"white\",\"linecolor\":\"white\",\"showbackground\":true,\"ticks\":\"\",\"zerolinecolor\":\"white\",\"gridwidth\":2},\"zaxis\":{\"backgroundcolor\":\"#E5ECF6\",\"gridcolor\":\"white\",\"linecolor\":\"white\",\"showbackground\":true,\"ticks\":\"\",\"zerolinecolor\":\"white\",\"gridwidth\":2}},\"shapedefaults\":{\"line\":{\"color\":\"#2a3f5f\"}},\"annotationdefaults\":{\"arrowcolor\":\"#2a3f5f\",\"arrowhead\":0,\"arrowwidth\":1},\"geo\":{\"bgcolor\":\"white\",\"landcolor\":\"#E5ECF6\",\"subunitcolor\":\"white\",\"showland\":true,\"showlakes\":true,\"lakecolor\":\"white\"},\"title\":{\"x\":0.05},\"mapbox\":{\"style\":\"light\"}}},\"xaxis\":{\"anchor\":\"y\",\"domain\":[0.0,0.22999999999999998],\"title\":{\"text\":\"Age_Category\",\"font\":{\"size\":10}},\"categoryorder\":\"array\",\"categoryarray\":[\"Minor\",\"Young Adult\",\"Adult\",\"Middle-Aged Adult\",\"Senior Citizen\"],\"tickfont\":{\"size\":10},\"tickangle\":90},\"yaxis\":{\"anchor\":\"x\",\"domain\":[0.0,0.3133333333333333],\"title\":{\"text\":\"density\",\"font\":{\"size\":10}},\"tickfont\":{\"size\":10}},\"xaxis2\":{\"anchor\":\"y2\",\"domain\":[0.24999999999999997,0.48],\"matches\":\"x\",\"title\":{\"text\":\"Age_Category\",\"font\":{\"size\":10}},\"categoryorder\":\"array\",\"categoryarray\":[\"Minor\",\"Young Adult\",\"Adult\",\"Middle-Aged Adult\",\"Senior Citizen\"],\"tickfont\":{\"size\":10},\"tickangle\":90},\"yaxis2\":{\"anchor\":\"x2\",\"domain\":[0.0,0.3133333333333333],\"matches\":\"y\",\"showticklabels\":false,\"tickfont\":{\"size\":10},\"title\":{\"font\":{\"size\":10}}},\"xaxis3\":{\"anchor\":\"y3\",\"domain\":[0.49999999999999994,0.73],\"matches\":\"x\",\"title\":{\"text\":\"Age_Category\",\"font\":{\"size\":10}},\"categoryorder\":\"array\",\"categoryarray\":[\"Minor\",\"Young Adult\",\"Adult\",\"Middle-Aged Adult\",\"Senior Citizen\"],\"tickfont\":{\"size\":10},\"tickangle\":90},\"yaxis3\":{\"anchor\":\"x3\",\"domain\":[0.0,0.3133333333333333],\"matches\":\"y\",\"showticklabels\":false,\"tickfont\":{\"size\":10},\"title\":{\"font\":{\"size\":10}}},\"xaxis4\":{\"anchor\":\"y4\",\"domain\":[0.75,0.98],\"matches\":\"x\",\"title\":{\"text\":\"Age_Category\",\"font\":{\"size\":10}},\"categoryorder\":\"array\",\"categoryarray\":[\"Minor\",\"Young Adult\",\"Adult\",\"Middle-Aged Adult\",\"Senior Citizen\"],\"tickfont\":{\"size\":10},\"tickangle\":90},\"yaxis4\":{\"anchor\":\"x4\",\"domain\":[0.0,0.3133333333333333],\"matches\":\"y\",\"showticklabels\":false,\"tickfont\":{\"size\":10},\"title\":{\"font\":{\"size\":10}}},\"xaxis5\":{\"anchor\":\"y5\",\"domain\":[0.0,0.22999999999999998],\"matches\":\"x\",\"showticklabels\":false,\"tickfont\":{\"size\":10},\"title\":{\"font\":{\"size\":10}},\"tickangle\":90},\"yaxis5\":{\"anchor\":\"x5\",\"domain\":[0.34333333333333327,0.6566666666666665],\"matches\":\"y\",\"title\":{\"text\":\"density\",\"font\":{\"size\":10}},\"tickfont\":{\"size\":10}},\"xaxis6\":{\"anchor\":\"y6\",\"domain\":[0.24999999999999997,0.48],\"matches\":\"x\",\"showticklabels\":false,\"tickfont\":{\"size\":10},\"title\":{\"font\":{\"size\":10}},\"tickangle\":90},\"yaxis6\":{\"anchor\":\"x6\",\"domain\":[0.34333333333333327,0.6566666666666665],\"matches\":\"y\",\"showticklabels\":false,\"tickfont\":{\"size\":10},\"title\":{\"font\":{\"size\":10}}},\"xaxis7\":{\"anchor\":\"y7\",\"domain\":[0.49999999999999994,0.73],\"matches\":\"x\",\"showticklabels\":false,\"tickfont\":{\"size\":10},\"title\":{\"font\":{\"size\":10}},\"tickangle\":90},\"yaxis7\":{\"anchor\":\"x7\",\"domain\":[0.34333333333333327,0.6566666666666665],\"matches\":\"y\",\"showticklabels\":false,\"tickfont\":{\"size\":10},\"title\":{\"font\":{\"size\":10}}},\"xaxis8\":{\"anchor\":\"y8\",\"domain\":[0.75,0.98],\"matches\":\"x\",\"showticklabels\":false,\"tickfont\":{\"size\":10},\"title\":{\"font\":{\"size\":10}},\"tickangle\":90},\"yaxis8\":{\"anchor\":\"x8\",\"domain\":[0.34333333333333327,0.6566666666666665],\"matches\":\"y\",\"showticklabels\":false,\"tickfont\":{\"size\":10},\"title\":{\"font\":{\"size\":10}}},\"xaxis9\":{\"anchor\":\"y9\",\"domain\":[0.0,0.22999999999999998],\"matches\":\"x\",\"showticklabels\":false,\"tickfont\":{\"size\":10},\"title\":{\"font\":{\"size\":10}},\"tickangle\":90},\"yaxis9\":{\"anchor\":\"x9\",\"domain\":[0.6866666666666665,0.9999999999999998],\"matches\":\"y\",\"title\":{\"text\":\"density\",\"font\":{\"size\":10}},\"tickfont\":{\"size\":10}},\"xaxis10\":{\"anchor\":\"y10\",\"domain\":[0.24999999999999997,0.48],\"matches\":\"x\",\"showticklabels\":false,\"tickfont\":{\"size\":10},\"title\":{\"font\":{\"size\":10}},\"tickangle\":90},\"yaxis10\":{\"anchor\":\"x10\",\"domain\":[0.6866666666666665,0.9999999999999998],\"matches\":\"y\",\"showticklabels\":false,\"tickfont\":{\"size\":10},\"title\":{\"font\":{\"size\":10}}},\"xaxis11\":{\"anchor\":\"y11\",\"domain\":[0.49999999999999994,0.73],\"matches\":\"x\",\"showticklabels\":false,\"tickfont\":{\"size\":10},\"title\":{\"font\":{\"size\":10}},\"tickangle\":90},\"yaxis11\":{\"anchor\":\"x11\",\"domain\":[0.6866666666666665,0.9999999999999998],\"matches\":\"y\",\"showticklabels\":false,\"tickfont\":{\"size\":10},\"title\":{\"font\":{\"size\":10}}},\"xaxis12\":{\"anchor\":\"y12\",\"domain\":[0.75,0.98],\"matches\":\"x\",\"showticklabels\":false,\"tickfont\":{\"size\":10},\"title\":{\"font\":{\"size\":10}},\"tickangle\":90},\"yaxis12\":{\"anchor\":\"x12\",\"domain\":[0.6866666666666665,0.9999999999999998],\"matches\":\"y\",\"showticklabels\":false,\"tickfont\":{\"size\":10},\"title\":{\"font\":{\"size\":10}}},\"annotations\":[{\"font\":{\"size\":8},\"showarrow\":false,\"text\":\"Time_Status=Morning\",\"x\":0.11499999999999999,\"xanchor\":\"center\",\"xref\":\"paper\",\"y\":0.9999999999999998,\"yanchor\":\"bottom\",\"yref\":\"paper\"},{\"font\":{\"size\":8},\"showarrow\":false,\"text\":\"Time_Status=Afternoon\",\"x\":0.365,\"xanchor\":\"center\",\"xref\":\"paper\",\"y\":0.9999999999999998,\"yanchor\":\"bottom\",\"yref\":\"paper\"},{\"font\":{\"size\":8},\"showarrow\":false,\"text\":\"Time_Status=Evening\",\"x\":0.615,\"xanchor\":\"center\",\"xref\":\"paper\",\"y\":0.9999999999999998,\"yanchor\":\"bottom\",\"yref\":\"paper\"},{\"font\":{\"size\":8},\"showarrow\":false,\"text\":\"Time_Status=Night\",\"x\":0.865,\"xanchor\":\"center\",\"xref\":\"paper\",\"y\":0.9999999999999998,\"yanchor\":\"bottom\",\"yref\":\"paper\"},{\"font\":{\"size\":8},\"showarrow\":false,\"text\":\"Add_to_Cart_Browsing=Maybe\",\"textangle\":90,\"x\":0.98,\"xanchor\":\"left\",\"xref\":\"paper\",\"y\":0.15666666666666665,\"yanchor\":\"middle\",\"yref\":\"paper\"},{\"font\":{\"size\":8},\"showarrow\":false,\"text\":\"Add_to_Cart_Browsing=No\",\"textangle\":90,\"x\":0.98,\"xanchor\":\"left\",\"xref\":\"paper\",\"y\":0.4999999999999999,\"yanchor\":\"middle\",\"yref\":\"paper\"},{\"font\":{\"size\":8},\"showarrow\":false,\"text\":\"Add_to_Cart_Browsing=Yes\",\"textangle\":90,\"x\":0.98,\"xanchor\":\"left\",\"xref\":\"paper\",\"y\":0.8433333333333332,\"yanchor\":\"middle\",\"yref\":\"paper\"}],\"legend\":{\"title\":{\"text\":\"Gender\"},\"tracegroupgap\":0,\"font\":{\"size\":10}},\"title\":{\"text\":\"Age distribution by time, add-to-cart behavior, and gender\",\"x\":0.5},\"barmode\":\"overlay\",\"height\":800,\"width\":800},                        {\"responsive\": true}                    ).then(function(){\n",
       "                            \n",
       "var gd = document.getElementById('bb8b6356-fedd-48c6-86cb-3bbf5ce3a2c1');\n",
       "var x = new MutationObserver(function (mutations, observer) {{\n",
       "        var display = window.getComputedStyle(gd).display;\n",
       "        if (!display || display === 'none') {{\n",
       "            console.log([gd, 'removed!']);\n",
       "            Plotly.purge(gd);\n",
       "            observer.disconnect();\n",
       "        }}\n",
       "}});\n",
       "\n",
       "// Listen for the removal of the full notebook cells\n",
       "var notebookContainer = gd.closest('#notebook-container');\n",
       "if (notebookContainer) {{\n",
       "    x.observe(notebookContainer, {childList: true});\n",
       "}}\n",
       "\n",
       "// Listen for the clearing of the current output cell\n",
       "var outputEl = gd.closest('.output');\n",
       "if (outputEl) {{\n",
       "    x.observe(outputEl, {childList: true});\n",
       "}}\n",
       "\n",
       "                        })                };            </script>        </div>"
      ]
     },
     "metadata": {},
     "output_type": "display_data"
    }
   ],
   "source": [
    "df2 = df1.copy()\n",
    "df2['Age_Category'] = df1['Age_Category'].str.replace(r\"\\s*\\(.*?\\)\", \"\", regex=True)\n",
    "\n",
    "order_age = [\"Minor\", \"Young Adult\", \"Adult\", \"Middle-Aged Adult\", \"Senior Citizen\"]\n",
    "\n",
    "fig = px.histogram(\n",
    "    df2,\n",
    "    x='Age_Category',\n",
    "    color='Gender',\n",
    "    facet_col='Time_Status',\n",
    "    facet_row='Add_to_Cart_Browsing',\n",
    "    barmode='overlay',\n",
    "    histnorm='density',\n",
    "    category_orders={\n",
    "        'Time_Status': ['Morning', 'Afternoon', 'Evening', 'Night'],\n",
    "        'Add_to_Cart_Browsing': ['Yes', 'No', 'Maybe'],\n",
    "        'Age_Category': order_age  \n",
    "    },\n",
    "    title='Age distribution by time, add-to-cart behavior, and gender'\n",
    ")\n",
    "\n",
    "fig.update_layout(\n",
    "    height=800,\n",
    "    width=800,\n",
    "    title_x=0.5,\n",
    "    legend=dict(title=\"Gender\", font=dict(size=10))\n",
    ")\n",
    "\n",
    "fig.update_xaxes(tickangle=90, tickfont=dict(size=10), title_font=dict(size=10))\n",
    "fig.update_yaxes(tickfont=dict(size=10), title_font=dict(size=10))\n",
    "\n",
    "for ann in fig.layout.annotations:\n",
    "    ann.font.size = 8\n",
    "\n",
    "fig.write_image(\"plot8.png\",width=1200, height=800, scale=3)  # now will match fig.show()\n",
    "fig.show()\n"
   ]
  },
  {
   "cell_type": "code",
   "execution_count": 178,
   "id": "93a4fd3b",
   "metadata": {},
   "outputs": [
    {
     "data": {
      "text/plain": [
       "Maybe    248\n",
       "Yes      216\n",
       "No       138\n",
       "Name: Add_to_Cart_Browsing, dtype: int64"
      ]
     },
     "execution_count": 178,
     "metadata": {},
     "output_type": "execute_result"
    }
   ],
   "source": [
    "df2['Add_to_Cart_Browsing'].value_counts()"
   ]
  },
  {
   "cell_type": "code",
   "execution_count": 179,
   "id": "888ece94",
   "metadata": {},
   "outputs": [
    {
     "name": "stdout",
     "output_type": "stream",
     "text": [
      "<class 'pandas.core.frame.DataFrame'>\n",
      "RangeIndex: 602 entries, 0 to 601\n",
      "Data columns (total 25 columns):\n",
      " #   Column                                  Non-Null Count  Dtype \n",
      "---  ------                                  --------------  ----- \n",
      " 0   age                                     602 non-null    int64 \n",
      " 1   Gender                                  602 non-null    object\n",
      " 2   Purchase_Frequency                      602 non-null    object\n",
      " 3   Purchase_Categories                     602 non-null    object\n",
      " 4   Browsing_Frequency                      602 non-null    object\n",
      " 5   Product_Search_Method                   602 non-null    object\n",
      " 6   Search_Result_Exploration               602 non-null    object\n",
      " 7   Customer_Reviews_Importance             602 non-null    int64 \n",
      " 8   Add_to_Cart_Browsing                    602 non-null    object\n",
      " 9   Cart_Completion_Frequency               602 non-null    object\n",
      " 10  Cart_Abandonment_Factors                602 non-null    object\n",
      " 11  Saveforlater_Frequency                  602 non-null    object\n",
      " 12  Review_Left                             602 non-null    object\n",
      " 13  Review_Reliability                      602 non-null    object\n",
      " 14  Review_Helpfulness                      602 non-null    object\n",
      " 15  Personalized_Recommendation_Frequency   602 non-null    int64 \n",
      " 16  Recommendation_Helpfulness              602 non-null    object\n",
      " 17  Rating_Accuracy                         602 non-null    int64 \n",
      " 18  Shopping_Satisfaction                   602 non-null    int64 \n",
      " 19  Service_Appreciation                    602 non-null    object\n",
      " 20  Improvement_Areas                       602 non-null    object\n",
      " 21  Date                                    602 non-null    object\n",
      " 22  Time                                    602 non-null    object\n",
      " 23  Age_Category                            602 non-null    object\n",
      " 24  Time_Status                             602 non-null    object\n",
      "dtypes: int64(5), object(20)\n",
      "memory usage: 117.7+ KB\n"
     ]
    }
   ],
   "source": [
    "#Feature selection\n",
    "X = df2.drop(['Add_to_Cart_Browsing'],axis = 1)\n",
    "y = df2['Add_to_Cart_Browsing']\n",
    "df2.info()"
   ]
  },
  {
   "cell_type": "code",
   "execution_count": 180,
   "id": "35f95c3d",
   "metadata": {},
   "outputs": [
    {
     "name": "stdout",
     "output_type": "stream",
     "text": [
      "  Training and prediction time: 0.0368 s\n",
      "  Accuracy : 0.6860\n",
      "  Precision: 0.6843\n",
      "  Recall   : 0.6860\n",
      "  F1 Score : 0.6825\n"
     ]
    }
   ],
   "source": [
    "from sklearn.compose import ColumnTransformer\n",
    "from sklearn.preprocessing import OneHotEncoder\n",
    "from sklearn.metrics import accuracy_score, precision_score, recall_score, f1_score\n",
    "from sklearn.preprocessing import MaxAbsScaler\n",
    "from sklearn.linear_model import LogisticRegression\n",
    "import time\n",
    "# Encode y to integers\n",
    "classes = pd.Index(pd.Categorical(y).categories)   # preserves stable order\n",
    "y_encoded = pd.Categorical(y, categories=classes).codes\n",
    "class_to_int = {c:i for i,c in enumerate(classes)}\n",
    "int_to_class = {i:c for c,i in class_to_int.items()}\n",
    "\n",
    "# Split\n",
    "X_train, X_test, y_train, y_test = train_test_split(\n",
    "    X, y_encoded, test_size=0.2, random_state=42, stratify=y_encoded\n",
    ")\n",
    "\n",
    "#Preprocessing\n",
    "categorical_cols = X.select_dtypes(include=['object', 'category']).columns.tolist()\n",
    "numeric_cols     = X.select_dtypes(include=['number']).columns.tolist()\n",
    "\n",
    "preprocessor = ColumnTransformer(\n",
    "    transformers=[\n",
    "        ('cat', OneHotEncoder(handle_unknown='ignore'), categorical_cols),\n",
    "        ('num', 'passthrough', numeric_cols),\n",
    "    ],\n",
    "    remainder='drop'\n",
    ")\n",
    "\n",
    "#Baseline Model\n",
    "pipelines = {\n",
    "     \"Logistic Regression\": Pipeline([\n",
    "        ('preprocess', preprocessor),\n",
    "        ('select', SelectKBest(f_classif, k=12)),\n",
    "        ('scale', MaxAbsScaler()),\n",
    "        ('model', LogisticRegression(max_iter=50))\n",
    "    ])    \n",
    "}\n",
    "\n",
    "for name, pipe in pipelines.items():\n",
    "    start = time.time()\n",
    "    pipe.fit(X_train, y_train)\n",
    "    elapsed = time.time() - start\n",
    "    y_pred = pipe.predict(X_test)\n",
    "\n",
    "    acc = accuracy_score(y_test, y_pred)\n",
    "    prec = precision_score(y_test, y_pred, average='weighted', zero_division=0)\n",
    "    rec = recall_score(y_test, y_pred, average='weighted')\n",
    "    f1 = f1_score(y_test, y_pred, average='weighted')\n",
    "\n",
    "    print(f\"  Training and prediction time: {elapsed:.4f} s\")\n",
    "    print(f\"  Accuracy : {acc:.4f}\")\n",
    "    print(f\"  Precision: {prec:.4f}\")\n",
    "    print(f\"  Recall   : {rec:.4f}\")\n",
    "    print(f\"  F1 Score : {f1:.4f}\")\n"
   ]
  },
  {
   "cell_type": "code",
   "execution_count": null,
   "id": "32a527cc",
   "metadata": {},
   "outputs": [],
   "source": []
  },
  {
   "cell_type": "code",
   "execution_count": null,
   "id": "03a28b8d",
   "metadata": {},
   "outputs": [],
   "source": []
  }
 ],
 "metadata": {
  "kernelspec": {
   "display_name": "Python 3 (ipykernel)",
   "language": "python",
   "name": "python3"
  },
  "language_info": {
   "codemirror_mode": {
    "name": "ipython",
    "version": 3
   },
   "file_extension": ".py",
   "mimetype": "text/x-python",
   "name": "python",
   "nbconvert_exporter": "python",
   "pygments_lexer": "ipython3",
   "version": "3.10.9"
  }
 },
 "nbformat": 4,
 "nbformat_minor": 5
}
